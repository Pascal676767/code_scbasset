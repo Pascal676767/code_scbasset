{
 "cells": [
  {
   "cell_type": "code",
   "execution_count": 1,
   "id": "de1736ca",
   "metadata": {},
   "outputs": [
    {
     "name": "stderr",
     "output_type": "stream",
     "text": [
      "/tmp/ipykernel_125491/2586015742.py:2: DeprecationWarning: \n",
      "Pyarrow will become a required dependency of pandas in the next major release of pandas (pandas 3.0),\n",
      "(to allow more performant data types, such as the Arrow string type, and better interoperability with other libraries)\n",
      "but was not found to be installed on your system.\n",
      "If this would cause problems for you,\n",
      "please provide us feedback at https://github.com/pandas-dev/pandas/issues/54466\n",
      "        \n",
      "  import pandas as pd\n"
     ]
    }
   ],
   "source": [
    "import csv\n",
    "import pandas as pd\n",
    "import h5py\n",
    "import numpy as np\n",
    "from scipy import sparse\n",
    "import re\n",
    "import scanpy as sc\n",
    "from preprocessing_function import concat_csv_file"
   ]
  },
  {
   "cell_type": "markdown",
   "id": "6bd29068",
   "metadata": {},
   "source": [
    "#  files"
   ]
  },
  {
   "cell_type": "code",
   "execution_count": 11,
   "id": "e159bd6c",
   "metadata": {},
   "outputs": [],
   "source": [
    "output= '../../../results_scbasset/data/enhancer_promotor.csv'\n",
    "file_enhancer = f'../../../results_scbasset/data/enhancer.csv'\n",
    "file_promotor = f'../../../results_scbasset/data/promotor.csv'\n",
    "\n",
    "concat_file = concat_csv_file(file_enhancer, file_promotor)"
   ]
  },
  {
   "cell_type": "markdown",
   "id": "4c7f4d3b",
   "metadata": {},
   "source": [
    "## Save csv file"
   ]
  },
  {
   "cell_type": "code",
   "execution_count": null,
   "id": "daa50d83",
   "metadata": {},
   "outputs": [],
   "source": [
    "df.to_csv(output, index=False)"
   ]
  }
 ],
 "metadata": {
  "kernelspec": {
   "display_name": "Norway",
   "language": "python",
   "name": "python3"
  },
  "language_info": {
   "codemirror_mode": {
    "name": "ipython",
    "version": 3
   },
   "file_extension": ".py",
   "mimetype": "text/x-python",
   "name": "python",
   "nbconvert_exporter": "python",
   "pygments_lexer": "ipython3",
   "version": "3.10.12"
  }
 },
 "nbformat": 4,
 "nbformat_minor": 5
}
