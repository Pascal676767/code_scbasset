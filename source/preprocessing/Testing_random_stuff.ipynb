{
 "cells": [
  {
   "cell_type": "code",
   "execution_count": 1,
   "id": "5155053d",
   "metadata": {},
   "outputs": [
    {
     "name": "stderr",
     "output_type": "stream",
     "text": [
      "/tmp/ipykernel_14127/585196735.py:4: DeprecationWarning: \n",
      "Pyarrow will become a required dependency of pandas in the next major release of pandas (pandas 3.0),\n",
      "(to allow more performant data types, such as the Arrow string type, and better interoperability with other libraries)\n",
      "but was not found to be installed on your system.\n",
      "If this would cause problems for you,\n",
      "please provide us feedback at https://github.com/pandas-dev/pandas/issues/54466\n",
      "        \n",
      "  import pandas as pd\n"
     ]
    }
   ],
   "source": [
    "import numpy as np\n",
    "import h5py\n",
    "from scipy.sparse import coo_matrix, csr_matrix\n",
    "import pandas as pd\n",
    "import scipy.io\n",
    "import scipy.sparse as sparse"
   ]
  },
  {
   "cell_type": "code",
   "execution_count": 23,
   "id": "48646141",
   "metadata": {},
   "outputs": [],
   "source": [
    "matrix='../../../results_scbasset/enhancer_final/data/count_matrix_enhancer.h5'\n",
    "#matrix = '../../../scBasset/data/multiome_pbmc/pbmc_granulocyte_sorted_3k_filtered_feature_bc_matrix.h5'\n",
    "output = '../../../results_scbasset/enhancer_final/data/test.csv'"
   ]
  },
  {
   "cell_type": "markdown",
   "id": "75fff417",
   "metadata": {},
   "source": [
    "### Recreer un csv à partir à partir de la count matrix"
   ]
  },
  {
   "cell_type": "code",
   "execution_count": 24,
   "id": "cd54b841",
   "metadata": {},
   "outputs": [],
   "source": [
    "import h5py\n",
    "import pandas as pd\n",
    "\n",
    "def h5_to_csv(input_file, output_file):\n",
    "    with h5py.File(input_file, 'r') as f:\n",
    "        # Récupération des données du groupe 'matrix'\n",
    "        matrix_group = f['matrix']\n",
    "        barcodes = matrix_group['barcodes'][:]\n",
    "        data = matrix_group['data'][:]\n",
    "        shape = matrix_group['shape'][:]\n",
    "        shape = (shape[1], shape[0])\n",
    "        \n",
    "        indices = matrix_group['indices'][:]\n",
    "        indptr = matrix_group['indptr'][:]\n",
    "        \n",
    "        # Construction de la matrice CSR\n",
    "        from scipy.sparse import csr_matrix\n",
    "        data_matrix = csr_matrix((data, indices, indptr), shape=shape)\n",
    "        \n",
    "        # Récupération des données du groupe 'features'\n",
    "        features_group = matrix_group['features']\n",
    "        all_tag_keys = features_group['_all_tag_keys'][:]\n",
    "        feature_type = features_group['feature_type'][:]\n",
    "        genome = features_group['genome'][:]\n",
    "        feature_id = features_group['id'][:]\n",
    "        interval = features_group['interval'][:]\n",
    "        name = features_group['name'][:]\n",
    "        \n",
    "        # Création d'un DataFrame avec les données\n",
    "        df = pd.DataFrame(data_matrix.todense(), index=barcodes, columns=name)\n",
    "        \n",
    "        # Écriture du DataFrame dans un fichier CSV\n",
    "        df.to_csv(output_file, index_label='barcodes')\n",
    "\n",
    "# Utilisation de la fonction pour convertir le fichier h5 en CSV\n",
    "input_file = matrix\n",
    "output_file = output\n",
    "h5_to_csv(input_file, output_file)"
   ]
  },
  {
   "cell_type": "code",
   "execution_count": 29,
   "id": "b2b30f66",
   "metadata": {},
   "outputs": [],
   "source": [
    "#matrix = '../../../scBasset/examples/PBMC_multiome/atac_ad.h5ad'\n",
    "matrix = '../../../results_scbasset/enhancer_final/data/not_filtered/cage_enhancer_ad.h5ad'\n"
   ]
  },
  {
   "cell_type": "markdown",
   "id": "f687fcfc",
   "metadata": {},
   "source": [
    "### recreer le csv à partir du anndata"
   ]
  },
  {
   "cell_type": "code",
   "execution_count": 31,
   "id": "7cbf5d8d",
   "metadata": {},
   "outputs": [
    {
     "ename": "KeyError",
     "evalue": "\"Unable to synchronously open object (object 'shape' doesn't exist)\"",
     "output_type": "error",
     "traceback": [
      "\u001b[0;31m---------------------------------------------------------------------------\u001b[0m",
      "\u001b[0;31mKeyError\u001b[0m                                  Traceback (most recent call last)",
      "Cell \u001b[0;32mIn[31], line 88\u001b[0m\n\u001b[1;32m     86\u001b[0m input_file \u001b[38;5;241m=\u001b[39m matrix\n\u001b[1;32m     87\u001b[0m output_file \u001b[38;5;241m=\u001b[39m \u001b[38;5;124m'\u001b[39m\u001b[38;5;124m../../../results_scbasset/enhancer_final/data/not_filtered/test_tuto.csv\u001b[39m\u001b[38;5;124m'\u001b[39m\n\u001b[0;32m---> 88\u001b[0m \u001b[43mh5ad_to_csv\u001b[49m\u001b[43m(\u001b[49m\u001b[43minput_file\u001b[49m\u001b[43m,\u001b[49m\u001b[43m \u001b[49m\u001b[43moutput_file\u001b[49m\u001b[43m)\u001b[49m\n",
      "Cell \u001b[0;32mIn[31], line 10\u001b[0m, in \u001b[0;36mh5ad_to_csv\u001b[0;34m(input_file, output_file)\u001b[0m\n\u001b[1;32m      8\u001b[0m X_indices \u001b[38;5;241m=\u001b[39m f[\u001b[38;5;124m'\u001b[39m\u001b[38;5;124mX\u001b[39m\u001b[38;5;124m'\u001b[39m][\u001b[38;5;124m'\u001b[39m\u001b[38;5;124mindices\u001b[39m\u001b[38;5;124m'\u001b[39m][:]\n\u001b[1;32m      9\u001b[0m X_indptr \u001b[38;5;241m=\u001b[39m f[\u001b[38;5;124m'\u001b[39m\u001b[38;5;124mX\u001b[39m\u001b[38;5;124m'\u001b[39m][\u001b[38;5;124m'\u001b[39m\u001b[38;5;124mindptr\u001b[39m\u001b[38;5;124m'\u001b[39m][:]\n\u001b[0;32m---> 10\u001b[0m X_shape\u001b[38;5;241m=\u001b[39m \u001b[43mf\u001b[49m\u001b[43m[\u001b[49m\u001b[38;5;124;43m'\u001b[39;49m\u001b[38;5;124;43mX\u001b[39;49m\u001b[38;5;124;43m'\u001b[39;49m\u001b[43m]\u001b[49m\u001b[43m[\u001b[49m\u001b[38;5;124;43m'\u001b[39;49m\u001b[38;5;124;43mshape\u001b[39;49m\u001b[38;5;124;43m'\u001b[39;49m\u001b[43m]\u001b[49m[:]\n\u001b[1;32m     12\u001b[0m obs_index \u001b[38;5;241m=\u001b[39m f[\u001b[38;5;124m'\u001b[39m\u001b[38;5;124mobs\u001b[39m\u001b[38;5;124m'\u001b[39m][\u001b[38;5;124m'\u001b[39m\u001b[38;5;124m_index\u001b[39m\u001b[38;5;124m'\u001b[39m][:]\n\u001b[1;32m     13\u001b[0m obs_n_genes \u001b[38;5;241m=\u001b[39m f[\u001b[38;5;124m'\u001b[39m\u001b[38;5;124mobs\u001b[39m\u001b[38;5;124m'\u001b[39m][\u001b[38;5;124m'\u001b[39m\u001b[38;5;124mn_genes\u001b[39m\u001b[38;5;124m'\u001b[39m][:]\n",
      "File \u001b[0;32mh5py/_objects.pyx:54\u001b[0m, in \u001b[0;36mh5py._objects.with_phil.wrapper\u001b[0;34m()\u001b[0m\n",
      "File \u001b[0;32mh5py/_objects.pyx:55\u001b[0m, in \u001b[0;36mh5py._objects.with_phil.wrapper\u001b[0;34m()\u001b[0m\n",
      "File \u001b[0;32m~/Norway/lib/python3.10/site-packages/h5py/_hl/group.py:357\u001b[0m, in \u001b[0;36mGroup.__getitem__\u001b[0;34m(self, name)\u001b[0m\n\u001b[1;32m    355\u001b[0m         \u001b[38;5;28;01mraise\u001b[39;00m \u001b[38;5;167;01mValueError\u001b[39;00m(\u001b[38;5;124m\"\u001b[39m\u001b[38;5;124mInvalid HDF5 object reference\u001b[39m\u001b[38;5;124m\"\u001b[39m)\n\u001b[1;32m    356\u001b[0m \u001b[38;5;28;01melif\u001b[39;00m \u001b[38;5;28misinstance\u001b[39m(name, (\u001b[38;5;28mbytes\u001b[39m, \u001b[38;5;28mstr\u001b[39m)):\n\u001b[0;32m--> 357\u001b[0m     oid \u001b[38;5;241m=\u001b[39m \u001b[43mh5o\u001b[49m\u001b[38;5;241;43m.\u001b[39;49m\u001b[43mopen\u001b[49m\u001b[43m(\u001b[49m\u001b[38;5;28;43mself\u001b[39;49m\u001b[38;5;241;43m.\u001b[39;49m\u001b[43mid\u001b[49m\u001b[43m,\u001b[49m\u001b[43m \u001b[49m\u001b[38;5;28;43mself\u001b[39;49m\u001b[38;5;241;43m.\u001b[39;49m\u001b[43m_e\u001b[49m\u001b[43m(\u001b[49m\u001b[43mname\u001b[49m\u001b[43m)\u001b[49m\u001b[43m,\u001b[49m\u001b[43m \u001b[49m\u001b[43mlapl\u001b[49m\u001b[38;5;241;43m=\u001b[39;49m\u001b[38;5;28;43mself\u001b[39;49m\u001b[38;5;241;43m.\u001b[39;49m\u001b[43m_lapl\u001b[49m\u001b[43m)\u001b[49m\n\u001b[1;32m    358\u001b[0m \u001b[38;5;28;01melse\u001b[39;00m:\n\u001b[1;32m    359\u001b[0m     \u001b[38;5;28;01mraise\u001b[39;00m \u001b[38;5;167;01mTypeError\u001b[39;00m(\u001b[38;5;124m\"\u001b[39m\u001b[38;5;124mAccessing a group is done with bytes or str, \u001b[39m\u001b[38;5;124m\"\u001b[39m\n\u001b[1;32m    360\u001b[0m                     \u001b[38;5;124m\"\u001b[39m\u001b[38;5;124mnot \u001b[39m\u001b[38;5;132;01m{}\u001b[39;00m\u001b[38;5;124m\"\u001b[39m\u001b[38;5;241m.\u001b[39mformat(\u001b[38;5;28mtype\u001b[39m(name)))\n",
      "File \u001b[0;32mh5py/_objects.pyx:54\u001b[0m, in \u001b[0;36mh5py._objects.with_phil.wrapper\u001b[0;34m()\u001b[0m\n",
      "File \u001b[0;32mh5py/_objects.pyx:55\u001b[0m, in \u001b[0;36mh5py._objects.with_phil.wrapper\u001b[0;34m()\u001b[0m\n",
      "File \u001b[0;32mh5py/h5o.pyx:189\u001b[0m, in \u001b[0;36mh5py.h5o.open\u001b[0;34m()\u001b[0m\n",
      "\u001b[0;31mKeyError\u001b[0m: \"Unable to synchronously open object (object 'shape' doesn't exist)\""
     ]
    }
   ],
   "source": [
    "import h5py\n",
    "import pandas as pd\n",
    "\n",
    "def h5ad_to_csv(input_file, output_file):\n",
    "    with h5py.File(input_file, 'r') as f:\n",
    "        # Récupération des données des groupes nécessaires\n",
    "        X_data = f['X']['data'][:]\n",
    "        X_indices = f['X']['indices'][:]\n",
    "        X_indptr = f['X']['indptr'][:]\n",
    "\n",
    "        \n",
    "        obs_index = f['obs']['_index'][:]\n",
    "        obs_n_genes = f['obs']['n_genes'][:]\n",
    "        \n",
    "        var_index = f['var']['_index'][:]\n",
    "        var_chr_categories = f['var']['chr']['categories'][:]\n",
    "        var_chr_codes = f['var']['chr']['codes'][:]\n",
    "        var_end = f['var']['end'][:]\n",
    "        var_feature_types_categories = f['var']['feature_types']['categories'][:]\n",
    "        var_feature_types_codes = f['var']['feature_types']['codes'][:]\n",
    "        var_gene_ids = f['var']['gene_ids'][:]\n",
    "        var_genome_categories = f['var']['genome']['categories'][:]\n",
    "        var_genome_codes = f['var']['genome']['codes'][:]\n",
    "        var_n_cells = f['var']['n_cells'][:]\n",
    "        var_start = f['var']['start'][:]\n",
    "        \n",
    "        # Vérification que toutes les variables ont la même longueur\n",
    "        lengths = [len(var_index), len(var_chr_categories), len(var_chr_codes),\n",
    "                   len(var_end), len(var_feature_types_categories),\n",
    "                   len(var_feature_types_codes), len(var_gene_ids),\n",
    "                   len(var_genome_categories), len(var_genome_codes),\n",
    "                   len(var_n_cells), len(var_start)]\n",
    "        if len(set(lengths)) != 1:\n",
    "            # Affichage des longueurs des arrays\n",
    "            print(\"Longueurs des arrays :\")\n",
    "            print(\"var_index:\", len(var_index))\n",
    "            print(\"var_chr_categories:\", len(var_chr_categories))\n",
    "            print(\"var_chr_codes:\", len(var_chr_codes))\n",
    "            print(\"var_end:\", len(var_end))\n",
    "            print(\"var_feature_types_categories:\", len(var_feature_types_categories))\n",
    "            print(\"var_feature_types_codes:\", len(var_feature_types_codes))\n",
    "            print(\"var_gene_ids:\", len(var_gene_ids))\n",
    "            print(\"var_genome_categories:\", len(var_genome_categories))\n",
    "            print(\"var_genome_codes:\", len(var_genome_codes))\n",
    "            print(\"var_n_cells:\", len(var_n_cells))\n",
    "            print(\"var_start:\", len(var_start))\n",
    "            raise ValueError(\"Les arrays n'ont pas la même longueur.\")\n",
    "        \n",
    "        # Création d'un DataFrame pour les données des observations (obs)\n",
    "        obs_df = pd.DataFrame({'index': obs_index, 'n_genes': obs_n_genes})\n",
    "        \n",
    "        # Création d'un DataFrame pour les données des variables (var)\n",
    "        var_df = pd.DataFrame({'index': var_index,\n",
    "                               'chr_categories': var_chr_categories,\n",
    "                               'chr_codes': var_chr_codes,\n",
    "                               'end': var_end,\n",
    "                               'feature_types_categories': var_feature_types_categories,\n",
    "                               'feature_types_codes': var_feature_types_codes,\n",
    "                               'gene_ids': var_gene_ids,\n",
    "                               'genome_categories': var_genome_categories,\n",
    "                               'genome_codes': var_genome_codes,\n",
    "                               'n_cells': var_n_cells,\n",
    "                               'start': var_start})\n",
    "        \n",
    "        # Écriture des DataFrames dans un fichier CSV\n",
    "        obs_df.to_csv(output_file + '_obs.csv', index=False)\n",
    "        var_df.to_csv(output_file + '_var.csv', index=False)\n",
    "        \n",
    "        # Reconstruction de la matrice X à partir des indices et des pointeurs\n",
    "        data_matrix = []\n",
    "        for i in range(len(X_indptr) - 1):\n",
    "            row_indices = X_indices[X_indptr[i]:X_indptr[i + 1]]\n",
    "            row_data = X_data[X_indptr[i]:X_indptr[i + 1]]\n",
    "            row = [0] * len(var_index)\n",
    "            for j, idx in enumerate(row_indices):\n",
    "                row[idx] = row_data[j]\n",
    "            data_matrix.append(row)\n",
    "        \n",
    "        # Création d'un DataFrame pour la matrice X\n",
    "        X_df = pd.DataFrame(data_matrix, index=obs_index, columns=var_index)\n",
    "        \n",
    "        # Écriture de la matrice X dans un fichier CSV\n",
    "        X_df.to_csv(output_file + '_X.csv')\n",
    "\n",
    "# Utilisation de la fonction pour convertir le fichier h5ad en CSV\n",
    "input_file = matrix\n",
    "output_file = '../../../results_scbasset/enhancer_final/data/not_filtered/test_tuto.csv'\n",
    "h5ad_to_csv(input_file, output_file)\n"
   ]
  },
  {
   "cell_type": "markdown",
   "id": "65080b27-bfc4-4456-9db4-888ae434dfbb",
   "metadata": {},
   "source": [
    "# SCAFE"
   ]
  },
  {
   "cell_type": "code",
   "execution_count": 9,
   "id": "51c4dd05",
   "metadata": {},
   "outputs": [],
   "source": [
    "matrix='../../../results_scbasset/data/SCAFE/Malignant_cells_distal_cre.mtx\n",
    "column='../../../results_scbasset/data/SCAFE/colnames_Malignant_cells_distal_cre.txt'\n",
    "row='../../../results_scbasset/data/SCAFE/rownames_Malignant_cells_distal_cre.txt'"
   ]
  },
  {
   "cell_type": "code",
   "execution_count": 5,
   "id": "0813c2af",
   "metadata": {},
   "outputs": [],
   "source": [
    "# Chemin vers votre fichier .mtx\n",
    "fichier_mtx = matrix\n",
    "\n",
    "# Lire le fichier .mtx et le stocker comme une matrice creuse\n",
    "matrice_creuse = scipy.io.mmread(fichier_mtx)\n",
    "\n",
    "# Convertir la matrice creuse en format CSR\n",
    "matrice_csr = matrice_creuse.tocsr()"
   ]
  },
  {
   "cell_type": "code",
   "execution_count": 6,
   "id": "2b85ca73",
   "metadata": {},
   "outputs": [
    {
     "data": {
      "text/plain": [
       "(153373, 104042)"
      ]
     },
     "execution_count": 6,
     "metadata": {},
     "output_type": "execute_result"
    }
   ],
   "source": [
    "matrice_csr.shape"
   ]
  },
  {
   "cell_type": "code",
   "execution_count": 3,
   "id": "cbc4c45f",
   "metadata": {},
   "outputs": [],
   "source": [
    "# Define functions to read each type of file\n",
    "def read_mtx(matrix_file):\n",
    "    with open(matrix_file, 'r') as f:\n",
    "        # Skip headers\n",
    "        for _ in range(2):\n",
    "            next(f)\n",
    "        data, row, col = [], [], []\n",
    "        for line in f:\n",
    "            r, c, d = map(int, line.split())\n",
    "            row.append(r - 1)  # adjust for zero-based indexing\n",
    "            col.append(c - 1)  # adjust for zero-based indexing\n",
    "            data.append(d)\n",
    "    return row, col, data\n",
    "\n",
    "def read_names(file):\n",
    "    with open(file, 'r') as f:\n",
    "        return [line.strip() for line in f]"
   ]
  },
  {
   "cell_type": "code",
   "execution_count": 4,
   "id": "07710986",
   "metadata": {},
   "outputs": [],
   "source": [
    "row_indices, col_indices, data = read_mtx(matrix)\n",
    "sparse_matrix = coo_matrix((data, (row_indices, col_indices)))\n",
    "csr_matrix_data = sparse_matrix.tocsr()\n",
    "    \n",
    "# Read the column and row names\n",
    "barcodes_list = np.array(read_names(column), dtype='S')  # Convert to bytes for h5py compatibility\n",
    "features_list = np.array(read_names(row), dtype='S')  # Same as above\n",
    "    \n",
    "# Assume some feature type and genome data for the example, adjust as necessary\n",
    "feature_types_data = np.array(['gene_expression'] * len(features_list), dtype='S')\n",
    "genome_data = np.array(['GRCh38'] * len(features_list), dtype='S')"
   ]
  },
  {
   "cell_type": "code",
   "execution_count": 14,
   "id": "8e6df529",
   "metadata": {},
   "outputs": [
    {
     "data": {
      "text/plain": [
       "153373"
      ]
     },
     "execution_count": 14,
     "metadata": {},
     "output_type": "execute_result"
    }
   ],
   "source": [
    "len(features_list)"
   ]
  },
  {
   "cell_type": "code",
   "execution_count": 12,
   "id": "cd4e5eab",
   "metadata": {},
   "outputs": [
    {
     "ename": "NameError",
     "evalue": "name 'f' is not defined",
     "output_type": "error",
     "traceback": [
      "\u001b[0;31m---------------------------------------------------------------------------\u001b[0m",
      "\u001b[0;31mNameError\u001b[0m                                 Traceback (most recent call last)",
      "Cell \u001b[0;32mIn[12], line 1\u001b[0m\n\u001b[0;32m----> 1\u001b[0m grp_matrix \u001b[38;5;241m=\u001b[39m \u001b[43mf\u001b[49m\u001b[38;5;241m.\u001b[39mcreate_group(\u001b[38;5;124m'\u001b[39m\u001b[38;5;124mmatrix\u001b[39m\u001b[38;5;124m'\u001b[39m)\n\u001b[1;32m      3\u001b[0m         \u001b[38;5;66;03m# Write the barcodes (column names in this context)\u001b[39;00m\n\u001b[1;32m      4\u001b[0m grp_matrix\u001b[38;5;241m.\u001b[39mcreate_dataset(\u001b[38;5;124m'\u001b[39m\u001b[38;5;124mbarcodes\u001b[39m\u001b[38;5;124m'\u001b[39m, data\u001b[38;5;241m=\u001b[39mbarcodes_list)\n",
      "\u001b[0;31mNameError\u001b[0m: name 'f' is not defined"
     ]
    }
   ],
   "source": [
    "grp_matrix = f.create_group('matrix')\n",
    "        \n",
    "        # Write the barcodes (column names in this context)\n",
    "grp_matrix.create_dataset('barcodes', data=barcodes_list)\n",
    "        \n",
    "        # Write the count matrix CSR components\n",
    "grp_matrix.create_dataset('data', data=csr_matrix_data.data)\n",
    "grp_matrix.create_dataset('indices', data=csr_matrix_data.indices)\n",
    "grp_matrix.create_dataset('indptr', data=csr_matrix_data.indptr)\n",
    "        "
   ]
  }
 ],
 "metadata": {
  "kernelspec": {
   "display_name": "Norway",
   "language": "python",
   "name": "norway"
  },
  "language_info": {
   "codemirror_mode": {
    "name": "ipython",
    "version": 3
   },
   "file_extension": ".py",
   "mimetype": "text/x-python",
   "name": "python",
   "nbconvert_exporter": "python",
   "pygments_lexer": "ipython3",
   "version": "3.10.12"
  }
 },
 "nbformat": 4,
 "nbformat_minor": 5
}
