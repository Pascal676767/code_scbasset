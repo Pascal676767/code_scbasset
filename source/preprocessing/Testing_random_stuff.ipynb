{
 "cells": [
  {
   "cell_type": "code",
   "execution_count": 2,
   "id": "5155053d",
   "metadata": {},
   "outputs": [
    {
     "name": "stderr",
     "output_type": "stream",
     "text": [
      "/tmp/ipykernel_96565/962953863.py:4: DeprecationWarning: \n",
      "Pyarrow will become a required dependency of pandas in the next major release of pandas (pandas 3.0),\n",
      "(to allow more performant data types, such as the Arrow string type, and better interoperability with other libraries)\n",
      "but was not found to be installed on your system.\n",
      "If this would cause problems for you,\n",
      "please provide us feedback at https://github.com/pandas-dev/pandas/issues/54466\n",
      "        \n",
      "  import pandas as pd\n"
     ]
    }
   ],
   "source": [
    "import numpy as np\n",
    "import h5py\n",
    "from scipy.sparse import coo_matrix, csr_matrix\n",
    "import pandas as pd\n",
    "import scipy.io\n",
    "import scipy.sparse as sparse\n",
    "import anndata"
   ]
  },
  {
   "cell_type": "code",
   "execution_count": 6,
   "id": "3fee8c07",
   "metadata": {},
   "outputs": [],
   "source": [
    "input_ad = '../../../results_scbasset/promotor_final/data/filtered/cage_promotor_ad.h5ad'\n",
    "ad = anndata.read_h5ad(input_ad)"
   ]
  },
  {
   "cell_type": "code",
   "execution_count": 34,
   "id": "56678b64",
   "metadata": {},
   "outputs": [
    {
     "data": {
      "text/html": [
       "<div>\n",
       "<style scoped>\n",
       "    .dataframe tbody tr th:only-of-type {\n",
       "        vertical-align: middle;\n",
       "    }\n",
       "\n",
       "    .dataframe tbody tr th {\n",
       "        vertical-align: top;\n",
       "    }\n",
       "\n",
       "    .dataframe thead th {\n",
       "        text-align: right;\n",
       "    }\n",
       "</style>\n",
       "<table border=\"1\" class=\"dataframe\">\n",
       "  <thead>\n",
       "    <tr style=\"text-align: right;\">\n",
       "      <th></th>\n",
       "      <th>gene_ids</th>\n",
       "      <th>feature_types</th>\n",
       "      <th>genome</th>\n",
       "      <th>chr</th>\n",
       "      <th>start</th>\n",
       "      <th>end</th>\n",
       "      <th>strand</th>\n",
       "      <th>n_cells</th>\n",
       "    </tr>\n",
       "  </thead>\n",
       "  <tbody>\n",
       "    <tr>\n",
       "      <th>chr1:629175-629265:+</th>\n",
       "      <td>chr1:629175-629265:+</td>\n",
       "      <td>Peaks</td>\n",
       "      <td>NA</td>\n",
       "      <td>chr1</td>\n",
       "      <td>629175</td>\n",
       "      <td>629265</td>\n",
       "      <td>+</td>\n",
       "      <td>6</td>\n",
       "    </tr>\n",
       "    <tr>\n",
       "      <th>chr1:629806-629930:+</th>\n",
       "      <td>chr1:629806-629930:+</td>\n",
       "      <td>Peaks</td>\n",
       "      <td>NA</td>\n",
       "      <td>chr1</td>\n",
       "      <td>629806</td>\n",
       "      <td>629930</td>\n",
       "      <td>+</td>\n",
       "      <td>65</td>\n",
       "    </tr>\n",
       "    <tr>\n",
       "      <th>chr1:630223-630315:+</th>\n",
       "      <td>chr1:630223-630315:+</td>\n",
       "      <td>Peaks</td>\n",
       "      <td>NA</td>\n",
       "      <td>chr1</td>\n",
       "      <td>630223</td>\n",
       "      <td>630315</td>\n",
       "      <td>+</td>\n",
       "      <td>26</td>\n",
       "    </tr>\n",
       "    <tr>\n",
       "      <th>chr1:631294-631361:+</th>\n",
       "      <td>chr1:631294-631361:+</td>\n",
       "      <td>Peaks</td>\n",
       "      <td>NA</td>\n",
       "      <td>chr1</td>\n",
       "      <td>631294</td>\n",
       "      <td>631361</td>\n",
       "      <td>+</td>\n",
       "      <td>8</td>\n",
       "    </tr>\n",
       "    <tr>\n",
       "      <th>chr1:632231-632378:+</th>\n",
       "      <td>chr1:632231-632378:+</td>\n",
       "      <td>Peaks</td>\n",
       "      <td>NA</td>\n",
       "      <td>chr1</td>\n",
       "      <td>632231</td>\n",
       "      <td>632378</td>\n",
       "      <td>+</td>\n",
       "      <td>24</td>\n",
       "    </tr>\n",
       "    <tr>\n",
       "      <th>...</th>\n",
       "      <td>...</td>\n",
       "      <td>...</td>\n",
       "      <td>...</td>\n",
       "      <td>...</td>\n",
       "      <td>...</td>\n",
       "      <td>...</td>\n",
       "      <td>...</td>\n",
       "      <td>...</td>\n",
       "    </tr>\n",
       "    <tr>\n",
       "      <th>chrX:155612891-155612963:-</th>\n",
       "      <td>chrX:155612891-155612963:-</td>\n",
       "      <td>Peaks</td>\n",
       "      <td>NA</td>\n",
       "      <td>chrX</td>\n",
       "      <td>155612891</td>\n",
       "      <td>155612963</td>\n",
       "      <td>-</td>\n",
       "      <td>96</td>\n",
       "    </tr>\n",
       "    <tr>\n",
       "      <th>chrY:5573461-5573465:+</th>\n",
       "      <td>chrY:5573461-5573465:+</td>\n",
       "      <td>Peaks</td>\n",
       "      <td>NA</td>\n",
       "      <td>chrY</td>\n",
       "      <td>5573461</td>\n",
       "      <td>5573465</td>\n",
       "      <td>+</td>\n",
       "      <td>80</td>\n",
       "    </tr>\n",
       "    <tr>\n",
       "      <th>chrY:13286618-13286778:+</th>\n",
       "      <td>chrY:13286618-13286778:+</td>\n",
       "      <td>Peaks</td>\n",
       "      <td>NA</td>\n",
       "      <td>chrY</td>\n",
       "      <td>13286618</td>\n",
       "      <td>13286778</td>\n",
       "      <td>+</td>\n",
       "      <td>95</td>\n",
       "    </tr>\n",
       "    <tr>\n",
       "      <th>chrY:5337904-5337905:-</th>\n",
       "      <td>chrY:5337904-5337905:-</td>\n",
       "      <td>Peaks</td>\n",
       "      <td>NA</td>\n",
       "      <td>chrY</td>\n",
       "      <td>5337904</td>\n",
       "      <td>5337905</td>\n",
       "      <td>-</td>\n",
       "      <td>75</td>\n",
       "    </tr>\n",
       "    <tr>\n",
       "      <th>chrY:18992657-18992733:-</th>\n",
       "      <td>chrY:18992657-18992733:-</td>\n",
       "      <td>Peaks</td>\n",
       "      <td>NA</td>\n",
       "      <td>chrY</td>\n",
       "      <td>18992657</td>\n",
       "      <td>18992733</td>\n",
       "      <td>-</td>\n",
       "      <td>92</td>\n",
       "    </tr>\n",
       "  </tbody>\n",
       "</table>\n",
       "<p>24275 rows × 8 columns</p>\n",
       "</div>"
      ],
      "text/plain": [
       "                                              gene_ids feature_types genome  \\\n",
       "chr1:629175-629265:+              chr1:629175-629265:+         Peaks     NA   \n",
       "chr1:629806-629930:+              chr1:629806-629930:+         Peaks     NA   \n",
       "chr1:630223-630315:+              chr1:630223-630315:+         Peaks     NA   \n",
       "chr1:631294-631361:+              chr1:631294-631361:+         Peaks     NA   \n",
       "chr1:632231-632378:+              chr1:632231-632378:+         Peaks     NA   \n",
       "...                                                ...           ...    ...   \n",
       "chrX:155612891-155612963:-  chrX:155612891-155612963:-         Peaks     NA   \n",
       "chrY:5573461-5573465:+          chrY:5573461-5573465:+         Peaks     NA   \n",
       "chrY:13286618-13286778:+      chrY:13286618-13286778:+         Peaks     NA   \n",
       "chrY:5337904-5337905:-          chrY:5337904-5337905:-         Peaks     NA   \n",
       "chrY:18992657-18992733:-      chrY:18992657-18992733:-         Peaks     NA   \n",
       "\n",
       "                             chr      start        end strand  n_cells  \n",
       "chr1:629175-629265:+        chr1     629175     629265      +        6  \n",
       "chr1:629806-629930:+        chr1     629806     629930      +       65  \n",
       "chr1:630223-630315:+        chr1     630223     630315      +       26  \n",
       "chr1:631294-631361:+        chr1     631294     631361      +        8  \n",
       "chr1:632231-632378:+        chr1     632231     632378      +       24  \n",
       "...                          ...        ...        ...    ...      ...  \n",
       "chrX:155612891-155612963:-  chrX  155612891  155612963      -       96  \n",
       "chrY:5573461-5573465:+      chrY    5573461    5573465      +       80  \n",
       "chrY:13286618-13286778:+    chrY   13286618   13286778      +       95  \n",
       "chrY:5337904-5337905:-      chrY    5337904    5337905      -       75  \n",
       "chrY:18992657-18992733:-    chrY   18992657   18992733      -       92  \n",
       "\n",
       "[24275 rows x 8 columns]"
      ]
     },
     "execution_count": 34,
     "metadata": {},
     "output_type": "execute_result"
    }
   ],
   "source": [
    "ad.var"
   ]
  },
  {
   "cell_type": "code",
   "execution_count": 52,
   "id": "a2bcf59d",
   "metadata": {},
   "outputs": [
    {
     "data": {
      "text/plain": [
       "24275"
      ]
     },
     "execution_count": 52,
     "metadata": {},
     "output_type": "execute_result"
    }
   ],
   "source": [
    "chro_to_exclude = 'chr1'\n",
    "ad.shape[1]"
   ]
  },
  {
   "cell_type": "code",
   "execution_count": 45,
   "id": "3480d48e",
   "metadata": {},
   "outputs": [
    {
     "data": {
      "text/plain": [
       "array([    0,     1,     2, ..., 24272, 24273, 24274])"
      ]
     },
     "execution_count": 45,
     "metadata": {},
     "output_type": "execute_result"
    }
   ],
   "source": [
    "test"
   ]
  },
  {
   "cell_type": "code",
   "execution_count": 39,
   "id": "71e9a371",
   "metadata": {},
   "outputs": [],
   "source": [
    "indices = ad.var['chr'] == chro_to_exclude\n",
    "\n",
    "ligne_indices = np.where(indices)[0] + 1"
   ]
  },
  {
   "cell_type": "code",
   "execution_count": 40,
   "id": "68ebf474",
   "metadata": {},
   "outputs": [
    {
     "data": {
      "text/plain": [
       "array([   1,    2,    3, ..., 2643, 2644, 2645])"
      ]
     },
     "execution_count": 40,
     "metadata": {},
     "output_type": "execute_result"
    }
   ],
   "source": [
    "ligne_indices "
   ]
  },
  {
   "cell_type": "code",
   "execution_count": 71,
   "id": "56af5e0e",
   "metadata": {},
   "outputs": [],
   "source": [
    "def split_train_test_val(ad, exclude_chr,  seed=10, train_ratio=0.9 ):\n",
    "    np.random.seed(seed)\n",
    "    ids = np.arange(ad.shape[1])\n",
    "\n",
    "    test_val_ids = np.where(ad.var['chr'] == exclude_chr)[0]\n",
    "    percentage_test_val = (len(test_val_ids)*100/len(ids))\n",
    "    print (percentage_test_val)\n",
    "\n",
    "    if percentage_test_val >(1-train_ratio):\n",
    "        print('Chromosome ids are not large enough')\n",
    "\n",
    "    train_ids = np.setdiff1d(ids, test_val_ids)\n",
    "\n",
    "    val_ids = np.random.choice(test_val_ids,\n",
    "        int(len(test_val_ids) / 2),\n",
    "        replace=False,\n",
    "    )\n",
    "    test_ids = np.setdiff1d(test_val_ids, val_ids)\n",
    "    return train_ids, test_ids, val_ids"
   ]
  },
  {
   "cell_type": "code",
   "execution_count": 72,
   "id": "a5f30433",
   "metadata": {},
   "outputs": [
    {
     "name": "stdout",
     "output_type": "stream",
     "text": [
      "6.047373841400618\n",
      "Chromosome ids are not large enough\n"
     ]
    }
   ],
   "source": [
    "exclude_chr = 'chr19'\n",
    "train_ids, test_ids, val_ids = split_train_test_val(ad, exclude_chr,  seed=10)"
   ]
  },
  {
   "cell_type": "code",
   "execution_count": 68,
   "id": "a79423d4",
   "metadata": {},
   "outputs": [
    {
     "name": "stdout",
     "output_type": "stream",
     "text": [
      "93.95262615859939\n",
      "3.023686920700309\n",
      "3.023686920700309\n"
     ]
    }
   ],
   "source": [
    "print(len(train_ids)* 100/ad.shape[1])\n",
    "print(len(test_ids)* 100 /ad.shape[1])\n",
    "print(len(val_ids)* 100 /ad.shape[1])"
   ]
  },
  {
   "cell_type": "code",
   "execution_count": 51,
   "id": "cd4d7a0d",
   "metadata": {},
   "outputs": [
    {
     "data": {
      "text/plain": [
       "array([6459, 6461, 6462, 6463, 6464, 6467, 6468, 6472, 6473, 6474, 6476,\n",
       "       6477, 6478, 6480, 6482, 6484, 6485, 6487, 6491, 6495, 6497, 6499,\n",
       "       6501, 6503, 6505, 6508, 6509, 6513, 6514, 6517, 6518, 6520, 6521,\n",
       "       6522, 6524, 6525, 6529, 6530, 6531, 6536, 6538, 6540, 6542, 6545,\n",
       "       6548, 6549, 6550, 6552, 6555, 6556, 6557, 6560, 6562, 6564, 6565,\n",
       "       6566, 6569, 6570, 6571, 6572, 6576, 6577, 6578, 6586, 6587, 6588,\n",
       "       6589, 6593, 6594, 6595, 6596, 6603, 6604, 6605, 6607, 6608, 6609,\n",
       "       6613, 6615, 6617, 6619, 6621, 6623, 6624, 6627, 6629, 6637, 6639,\n",
       "       6641, 6644, 6645, 6646, 6648, 6657, 6658, 6659, 6660, 6663, 6664,\n",
       "       6665, 6666, 6667, 6668, 6669, 6671, 6673, 6674, 6678, 6680, 6683,\n",
       "       6685, 6686, 6690, 6691, 6695, 6697, 6698, 6700, 6702, 6705, 6706,\n",
       "       6710, 6715, 6716, 6717, 6722, 6724, 6725, 6726, 6727, 6728, 6729,\n",
       "       6731, 6734, 6738, 6740, 6741, 6742, 6745, 6747, 6748, 6749, 6750,\n",
       "       6755, 6756, 6760, 6762, 6765, 6767, 6769, 6770, 6771, 6772, 6773,\n",
       "       6775, 6776, 6778, 6779, 6783, 6786, 6787, 6789, 6790, 6791, 6792,\n",
       "       6795, 6797, 6799, 6802, 6803, 6805, 6806, 6807, 6809, 6811, 6814,\n",
       "       6815, 6818, 6819, 6821, 6823, 6824, 6826, 6827, 6830, 6835, 6836,\n",
       "       6839, 6841, 6844, 6847, 6849, 6850, 6853, 6854, 6855, 6856, 6859,\n",
       "       6860, 6861, 6863, 6864, 6865, 6866, 6868, 6871, 6881, 6882, 6883,\n",
       "       6891, 6892, 6893, 6894, 6895, 6898, 6905, 6908, 6910, 6912, 6913,\n",
       "       6914, 6915, 6916, 6917, 6918, 6919, 6921, 6923, 6924, 6925, 6927,\n",
       "       6928, 6929, 6930, 6931, 6933, 6935, 6936, 6937, 6939, 6940, 6947,\n",
       "       6948, 6949, 6952, 6953, 6955, 6956, 6961, 6962, 6964, 6965, 6968,\n",
       "       6971, 6974, 6975, 6976, 6980, 6981, 6982, 6985, 6986, 6989, 6991,\n",
       "       6992, 6993, 6994, 6995, 6997, 6999, 7000, 7001, 7002, 7008, 7009,\n",
       "       7010, 7011, 7012, 7015, 7016, 7019, 7020, 7022, 7025, 7029, 7033,\n",
       "       7034, 7038, 7040, 7042, 7045, 7046, 7053, 7054, 7056, 7058, 7059,\n",
       "       7064, 7065, 7066, 7069, 7070, 7075, 7079, 7080, 7083, 7085, 7086,\n",
       "       7087, 7089, 7091, 7093, 7095, 7099, 7100, 7101, 7103, 7104, 7105,\n",
       "       7107, 7109, 7110, 7111, 7112, 7113, 7114, 7115, 7118, 7119, 7120,\n",
       "       7121, 7124, 7126, 7129, 7130, 7131, 7133, 7135, 7136, 7137, 7139,\n",
       "       7140, 7141, 7145, 7148, 7149, 7153, 7155, 7160, 7162, 7163, 7166,\n",
       "       7167, 7169, 7170, 7172, 7173, 7174, 7175, 7176, 7181, 7183, 7186,\n",
       "       7189, 7190, 7191, 7192, 7195, 7196, 7201, 7202, 7203, 7205, 7206,\n",
       "       7208, 7210, 7214, 7217, 7218, 7219, 7221, 7222, 7223, 7225, 7230,\n",
       "       7231, 7235, 7236, 7237, 7239, 7242, 7244, 7246, 7249, 7253, 7255,\n",
       "       7256, 7257, 7258, 7260, 7261, 7265, 7267, 7268, 7269, 7270, 7271,\n",
       "       7272, 7275, 7277, 7283, 7284, 7285, 7286, 7289, 7293, 7295, 7298,\n",
       "       7299, 7300, 7304, 7306, 7308, 7309, 7311, 7315, 7316, 7321, 7322,\n",
       "       7323, 7324, 7325, 7328, 7334, 7335, 7336, 7338, 7340, 7342, 7343,\n",
       "       7344, 7348, 7351, 7352, 7355, 7356, 7357, 7358, 7359, 7360, 7361,\n",
       "       7363, 7364, 7367, 7370, 7373, 7376, 7378, 7380, 7381, 7382, 7385,\n",
       "       7387, 7388, 7391, 7395, 7397, 7400, 7403, 7407, 7408, 7412, 7413,\n",
       "       7417, 7418, 7420, 7422, 7423, 7425, 7428, 7431, 7432, 7433, 7437,\n",
       "       7438, 7439, 7441, 7443, 7444, 7445, 7446, 7447, 7449, 7452, 7453,\n",
       "       7454, 7455, 7459, 7462, 7464, 7466, 7468, 7476, 7477, 7478, 7479,\n",
       "       7480, 7484, 7487, 7490, 7491, 7492, 7493, 7494, 7495, 7496, 7498,\n",
       "       7499, 7502, 7503, 7505, 7506, 7507, 7508, 7510, 7515, 7516, 7517,\n",
       "       7518, 7521, 7522, 7524, 7526, 7528, 7529, 7531, 7532, 7533, 7535,\n",
       "       7537, 7539, 7541, 7542, 7543, 7545, 7546, 7548, 7549, 7551, 7552,\n",
       "       7554, 7556, 7557, 7558, 7560, 7561, 7567, 7568, 7571, 7573, 7574,\n",
       "       7577, 7580, 7582, 7585, 7588, 7589, 7593])"
      ]
     },
     "execution_count": 51,
     "metadata": {},
     "output_type": "execute_result"
    }
   ],
   "source": [
    "test_ids"
   ]
  },
  {
   "cell_type": "code",
   "execution_count": 23,
   "id": "48646141",
   "metadata": {},
   "outputs": [],
   "source": [
    "matrix='../../../results_scbasset/enhancer_final/data/count_matrix_enhancer.h5'\n",
    "#matrix = '../../../scBasset/data/multiome_pbmc/pbmc_granulocyte_sorted_3k_filtered_feature_bc_matrix.h5'\n",
    "output = '../../../results_scbasset/enhancer_final/data/test.csv'"
   ]
  },
  {
   "cell_type": "markdown",
   "id": "75fff417",
   "metadata": {},
   "source": [
    "### Recreer un csv à partir à partir de la count matrix"
   ]
  },
  {
   "cell_type": "code",
   "execution_count": 24,
   "id": "cd54b841",
   "metadata": {},
   "outputs": [],
   "source": [
    "import h5py\n",
    "import pandas as pd\n",
    "\n",
    "def h5_to_csv(input_file, output_file):\n",
    "    with h5py.File(input_file, 'r') as f:\n",
    "        # Récupération des données du groupe 'matrix'\n",
    "        matrix_group = f['matrix']\n",
    "        barcodes = matrix_group['barcodes'][:]\n",
    "        data = matrix_group['data'][:]\n",
    "        shape = matrix_group['shape'][:]\n",
    "        shape = (shape[1], shape[0])\n",
    "        \n",
    "        indices = matrix_group['indices'][:]\n",
    "        indptr = matrix_group['indptr'][:]\n",
    "        \n",
    "        # Construction de la matrice CSR\n",
    "        from scipy.sparse import csr_matrix\n",
    "        data_matrix = csr_matrix((data, indices, indptr), shape=shape)\n",
    "        \n",
    "        # Récupération des données du groupe 'features'\n",
    "        features_group = matrix_group['features']\n",
    "        all_tag_keys = features_group['_all_tag_keys'][:]\n",
    "        feature_type = features_group['feature_type'][:]\n",
    "        genome = features_group['genome'][:]\n",
    "        feature_id = features_group['id'][:]\n",
    "        interval = features_group['interval'][:]\n",
    "        name = features_group['name'][:]\n",
    "        \n",
    "        # Création d'un DataFrame avec les données\n",
    "        df = pd.DataFrame(data_matrix.todense(), index=barcodes, columns=name)\n",
    "        \n",
    "        # Écriture du DataFrame dans un fichier CSV\n",
    "        df.to_csv(output_file, index_label='barcodes')\n",
    "\n",
    "# Utilisation de la fonction pour convertir le fichier h5 en CSV\n",
    "input_file = matrix\n",
    "output_file = output\n",
    "h5_to_csv(input_file, output_file)"
   ]
  },
  {
   "cell_type": "code",
   "execution_count": 29,
   "id": "b2b30f66",
   "metadata": {},
   "outputs": [],
   "source": [
    "#matrix = '../../../scBasset/examples/PBMC_multiome/atac_ad.h5ad'\n",
    "matrix = '../../../results_scbasset/enhancer_final/data/not_filtered/cage_enhancer_ad.h5ad'\n"
   ]
  },
  {
   "cell_type": "markdown",
   "id": "f687fcfc",
   "metadata": {},
   "source": [
    "### recreer le csv à partir du anndata"
   ]
  },
  {
   "cell_type": "code",
   "execution_count": 31,
   "id": "7cbf5d8d",
   "metadata": {},
   "outputs": [
    {
     "ename": "KeyError",
     "evalue": "\"Unable to synchronously open object (object 'shape' doesn't exist)\"",
     "output_type": "error",
     "traceback": [
      "\u001b[0;31m---------------------------------------------------------------------------\u001b[0m",
      "\u001b[0;31mKeyError\u001b[0m                                  Traceback (most recent call last)",
      "Cell \u001b[0;32mIn[31], line 88\u001b[0m\n\u001b[1;32m     86\u001b[0m input_file \u001b[38;5;241m=\u001b[39m matrix\n\u001b[1;32m     87\u001b[0m output_file \u001b[38;5;241m=\u001b[39m \u001b[38;5;124m'\u001b[39m\u001b[38;5;124m../../../results_scbasset/enhancer_final/data/not_filtered/test_tuto.csv\u001b[39m\u001b[38;5;124m'\u001b[39m\n\u001b[0;32m---> 88\u001b[0m \u001b[43mh5ad_to_csv\u001b[49m\u001b[43m(\u001b[49m\u001b[43minput_file\u001b[49m\u001b[43m,\u001b[49m\u001b[43m \u001b[49m\u001b[43moutput_file\u001b[49m\u001b[43m)\u001b[49m\n",
      "Cell \u001b[0;32mIn[31], line 10\u001b[0m, in \u001b[0;36mh5ad_to_csv\u001b[0;34m(input_file, output_file)\u001b[0m\n\u001b[1;32m      8\u001b[0m X_indices \u001b[38;5;241m=\u001b[39m f[\u001b[38;5;124m'\u001b[39m\u001b[38;5;124mX\u001b[39m\u001b[38;5;124m'\u001b[39m][\u001b[38;5;124m'\u001b[39m\u001b[38;5;124mindices\u001b[39m\u001b[38;5;124m'\u001b[39m][:]\n\u001b[1;32m      9\u001b[0m X_indptr \u001b[38;5;241m=\u001b[39m f[\u001b[38;5;124m'\u001b[39m\u001b[38;5;124mX\u001b[39m\u001b[38;5;124m'\u001b[39m][\u001b[38;5;124m'\u001b[39m\u001b[38;5;124mindptr\u001b[39m\u001b[38;5;124m'\u001b[39m][:]\n\u001b[0;32m---> 10\u001b[0m X_shape\u001b[38;5;241m=\u001b[39m \u001b[43mf\u001b[49m\u001b[43m[\u001b[49m\u001b[38;5;124;43m'\u001b[39;49m\u001b[38;5;124;43mX\u001b[39;49m\u001b[38;5;124;43m'\u001b[39;49m\u001b[43m]\u001b[49m\u001b[43m[\u001b[49m\u001b[38;5;124;43m'\u001b[39;49m\u001b[38;5;124;43mshape\u001b[39;49m\u001b[38;5;124;43m'\u001b[39;49m\u001b[43m]\u001b[49m[:]\n\u001b[1;32m     12\u001b[0m obs_index \u001b[38;5;241m=\u001b[39m f[\u001b[38;5;124m'\u001b[39m\u001b[38;5;124mobs\u001b[39m\u001b[38;5;124m'\u001b[39m][\u001b[38;5;124m'\u001b[39m\u001b[38;5;124m_index\u001b[39m\u001b[38;5;124m'\u001b[39m][:]\n\u001b[1;32m     13\u001b[0m obs_n_genes \u001b[38;5;241m=\u001b[39m f[\u001b[38;5;124m'\u001b[39m\u001b[38;5;124mobs\u001b[39m\u001b[38;5;124m'\u001b[39m][\u001b[38;5;124m'\u001b[39m\u001b[38;5;124mn_genes\u001b[39m\u001b[38;5;124m'\u001b[39m][:]\n",
      "File \u001b[0;32mh5py/_objects.pyx:54\u001b[0m, in \u001b[0;36mh5py._objects.with_phil.wrapper\u001b[0;34m()\u001b[0m\n",
      "File \u001b[0;32mh5py/_objects.pyx:55\u001b[0m, in \u001b[0;36mh5py._objects.with_phil.wrapper\u001b[0;34m()\u001b[0m\n",
      "File \u001b[0;32m~/Norway/lib/python3.10/site-packages/h5py/_hl/group.py:357\u001b[0m, in \u001b[0;36mGroup.__getitem__\u001b[0;34m(self, name)\u001b[0m\n\u001b[1;32m    355\u001b[0m         \u001b[38;5;28;01mraise\u001b[39;00m \u001b[38;5;167;01mValueError\u001b[39;00m(\u001b[38;5;124m\"\u001b[39m\u001b[38;5;124mInvalid HDF5 object reference\u001b[39m\u001b[38;5;124m\"\u001b[39m)\n\u001b[1;32m    356\u001b[0m \u001b[38;5;28;01melif\u001b[39;00m \u001b[38;5;28misinstance\u001b[39m(name, (\u001b[38;5;28mbytes\u001b[39m, \u001b[38;5;28mstr\u001b[39m)):\n\u001b[0;32m--> 357\u001b[0m     oid \u001b[38;5;241m=\u001b[39m \u001b[43mh5o\u001b[49m\u001b[38;5;241;43m.\u001b[39;49m\u001b[43mopen\u001b[49m\u001b[43m(\u001b[49m\u001b[38;5;28;43mself\u001b[39;49m\u001b[38;5;241;43m.\u001b[39;49m\u001b[43mid\u001b[49m\u001b[43m,\u001b[49m\u001b[43m \u001b[49m\u001b[38;5;28;43mself\u001b[39;49m\u001b[38;5;241;43m.\u001b[39;49m\u001b[43m_e\u001b[49m\u001b[43m(\u001b[49m\u001b[43mname\u001b[49m\u001b[43m)\u001b[49m\u001b[43m,\u001b[49m\u001b[43m \u001b[49m\u001b[43mlapl\u001b[49m\u001b[38;5;241;43m=\u001b[39;49m\u001b[38;5;28;43mself\u001b[39;49m\u001b[38;5;241;43m.\u001b[39;49m\u001b[43m_lapl\u001b[49m\u001b[43m)\u001b[49m\n\u001b[1;32m    358\u001b[0m \u001b[38;5;28;01melse\u001b[39;00m:\n\u001b[1;32m    359\u001b[0m     \u001b[38;5;28;01mraise\u001b[39;00m \u001b[38;5;167;01mTypeError\u001b[39;00m(\u001b[38;5;124m\"\u001b[39m\u001b[38;5;124mAccessing a group is done with bytes or str, \u001b[39m\u001b[38;5;124m\"\u001b[39m\n\u001b[1;32m    360\u001b[0m                     \u001b[38;5;124m\"\u001b[39m\u001b[38;5;124mnot \u001b[39m\u001b[38;5;132;01m{}\u001b[39;00m\u001b[38;5;124m\"\u001b[39m\u001b[38;5;241m.\u001b[39mformat(\u001b[38;5;28mtype\u001b[39m(name)))\n",
      "File \u001b[0;32mh5py/_objects.pyx:54\u001b[0m, in \u001b[0;36mh5py._objects.with_phil.wrapper\u001b[0;34m()\u001b[0m\n",
      "File \u001b[0;32mh5py/_objects.pyx:55\u001b[0m, in \u001b[0;36mh5py._objects.with_phil.wrapper\u001b[0;34m()\u001b[0m\n",
      "File \u001b[0;32mh5py/h5o.pyx:189\u001b[0m, in \u001b[0;36mh5py.h5o.open\u001b[0;34m()\u001b[0m\n",
      "\u001b[0;31mKeyError\u001b[0m: \"Unable to synchronously open object (object 'shape' doesn't exist)\""
     ]
    }
   ],
   "source": [
    "import h5py\n",
    "import pandas as pd\n",
    "\n",
    "def h5ad_to_csv(input_file, output_file):\n",
    "    with h5py.File(input_file, 'r') as f:\n",
    "        # Récupération des données des groupes nécessaires\n",
    "        X_data = f['X']['data'][:]\n",
    "        X_indices = f['X']['indices'][:]\n",
    "        X_indptr = f['X']['indptr'][:]\n",
    "\n",
    "        \n",
    "        obs_index = f['obs']['_index'][:]\n",
    "        obs_n_genes = f['obs']['n_genes'][:]\n",
    "        \n",
    "        var_index = f['var']['_index'][:]\n",
    "        var_chr_categories = f['var']['chr']['categories'][:]\n",
    "        var_chr_codes = f['var']['chr']['codes'][:]\n",
    "        var_end = f['var']['end'][:]\n",
    "        var_feature_types_categories = f['var']['feature_types']['categories'][:]\n",
    "        var_feature_types_codes = f['var']['feature_types']['codes'][:]\n",
    "        var_gene_ids = f['var']['gene_ids'][:]\n",
    "        var_genome_categories = f['var']['genome']['categories'][:]\n",
    "        var_genome_codes = f['var']['genome']['codes'][:]\n",
    "        var_n_cells = f['var']['n_cells'][:]\n",
    "        var_start = f['var']['start'][:]\n",
    "        \n",
    "        # Vérification que toutes les variables ont la même longueur\n",
    "        lengths = [len(var_index), len(var_chr_categories), len(var_chr_codes),\n",
    "                   len(var_end), len(var_feature_types_categories),\n",
    "                   len(var_feature_types_codes), len(var_gene_ids),\n",
    "                   len(var_genome_categories), len(var_genome_codes),\n",
    "                   len(var_n_cells), len(var_start)]\n",
    "        if len(set(lengths)) != 1:\n",
    "            # Affichage des longueurs des arrays\n",
    "            print(\"Longueurs des arrays :\")\n",
    "            print(\"var_index:\", len(var_index))\n",
    "            print(\"var_chr_categories:\", len(var_chr_categories))\n",
    "            print(\"var_chr_codes:\", len(var_chr_codes))\n",
    "            print(\"var_end:\", len(var_end))\n",
    "            print(\"var_feature_types_categories:\", len(var_feature_types_categories))\n",
    "            print(\"var_feature_types_codes:\", len(var_feature_types_codes))\n",
    "            print(\"var_gene_ids:\", len(var_gene_ids))\n",
    "            print(\"var_genome_categories:\", len(var_genome_categories))\n",
    "            print(\"var_genome_codes:\", len(var_genome_codes))\n",
    "            print(\"var_n_cells:\", len(var_n_cells))\n",
    "            print(\"var_start:\", len(var_start))\n",
    "            raise ValueError(\"Les arrays n'ont pas la même longueur.\")\n",
    "        \n",
    "        # Création d'un DataFrame pour les données des observations (obs)\n",
    "        obs_df = pd.DataFrame({'index': obs_index, 'n_genes': obs_n_genes})\n",
    "        \n",
    "        # Création d'un DataFrame pour les données des variables (var)\n",
    "        var_df = pd.DataFrame({'index': var_index,\n",
    "                               'chr_categories': var_chr_categories,\n",
    "                               'chr_codes': var_chr_codes,\n",
    "                               'end': var_end,\n",
    "                               'feature_types_categories': var_feature_types_categories,\n",
    "                               'feature_types_codes': var_feature_types_codes,\n",
    "                               'gene_ids': var_gene_ids,\n",
    "                               'genome_categories': var_genome_categories,\n",
    "                               'genome_codes': var_genome_codes,\n",
    "                               'n_cells': var_n_cells,\n",
    "                               'start': var_start})\n",
    "        \n",
    "        # Écriture des DataFrames dans un fichier CSV\n",
    "        obs_df.to_csv(output_file + '_obs.csv', index=False)\n",
    "        var_df.to_csv(output_file + '_var.csv', index=False)\n",
    "        \n",
    "        # Reconstruction de la matrice X à partir des indices et des pointeurs\n",
    "        data_matrix = []\n",
    "        for i in range(len(X_indptr) - 1):\n",
    "            row_indices = X_indices[X_indptr[i]:X_indptr[i + 1]]\n",
    "            row_data = X_data[X_indptr[i]:X_indptr[i + 1]]\n",
    "            row = [0] * len(var_index)\n",
    "            for j, idx in enumerate(row_indices):\n",
    "                row[idx] = row_data[j]\n",
    "            data_matrix.append(row)\n",
    "        \n",
    "        # Création d'un DataFrame pour la matrice X\n",
    "        X_df = pd.DataFrame(data_matrix, index=obs_index, columns=var_index)\n",
    "        \n",
    "        # Écriture de la matrice X dans un fichier CSV\n",
    "        X_df.to_csv(output_file + '_X.csv')\n",
    "\n",
    "# Utilisation de la fonction pour convertir le fichier h5ad en CSV\n",
    "input_file = matrix\n",
    "output_file = '../../../results_scbasset/enhancer_final/data/not_filtered/test_tuto.csv'\n",
    "h5ad_to_csv(input_file, output_file)\n"
   ]
  },
  {
   "cell_type": "markdown",
   "id": "65080b27-bfc4-4456-9db4-888ae434dfbb",
   "metadata": {},
   "source": [
    "# SCAFE"
   ]
  },
  {
   "cell_type": "code",
   "execution_count": 9,
   "id": "51c4dd05",
   "metadata": {},
   "outputs": [],
   "source": [
    "matrix='../../../results_scbasset/data/SCAFE/Malignant_cells_distal_cre.mtx\n",
    "column='../../../results_scbasset/data/SCAFE/colnames_Malignant_cells_distal_cre.txt'\n",
    "row='../../../results_scbasset/data/SCAFE/rownames_Malignant_cells_distal_cre.txt'"
   ]
  },
  {
   "cell_type": "code",
   "execution_count": 5,
   "id": "0813c2af",
   "metadata": {},
   "outputs": [],
   "source": [
    "# Chemin vers votre fichier .mtx\n",
    "fichier_mtx = matrix\n",
    "\n",
    "# Lire le fichier .mtx et le stocker comme une matrice creuse\n",
    "matrice_creuse = scipy.io.mmread(fichier_mtx)\n",
    "\n",
    "# Convertir la matrice creuse en format CSR\n",
    "matrice_csr = matrice_creuse.tocsr()"
   ]
  },
  {
   "cell_type": "code",
   "execution_count": 6,
   "id": "2b85ca73",
   "metadata": {},
   "outputs": [
    {
     "data": {
      "text/plain": [
       "(153373, 104042)"
      ]
     },
     "execution_count": 6,
     "metadata": {},
     "output_type": "execute_result"
    }
   ],
   "source": [
    "matrice_csr.shape"
   ]
  },
  {
   "cell_type": "code",
   "execution_count": 3,
   "id": "cbc4c45f",
   "metadata": {},
   "outputs": [],
   "source": [
    "# Define functions to read each type of file\n",
    "def read_mtx(matrix_file):\n",
    "    with open(matrix_file, 'r') as f:\n",
    "        # Skip headers\n",
    "        for _ in range(2):\n",
    "            next(f)\n",
    "        data, row, col = [], [], []\n",
    "        for line in f:\n",
    "            r, c, d = map(int, line.split())\n",
    "            row.append(r - 1)  # adjust for zero-based indexing\n",
    "            col.append(c - 1)  # adjust for zero-based indexing\n",
    "            data.append(d)\n",
    "    return row, col, data\n",
    "\n",
    "def read_names(file):\n",
    "    with open(file, 'r') as f:\n",
    "        return [line.strip() for line in f]"
   ]
  },
  {
   "cell_type": "code",
   "execution_count": 4,
   "id": "07710986",
   "metadata": {},
   "outputs": [],
   "source": [
    "row_indices, col_indices, data = read_mtx(matrix)\n",
    "sparse_matrix = coo_matrix((data, (row_indices, col_indices)))\n",
    "csr_matrix_data = sparse_matrix.tocsr()\n",
    "    \n",
    "# Read the column and row names\n",
    "barcodes_list = np.array(read_names(column), dtype='S')  # Convert to bytes for h5py compatibility\n",
    "features_list = np.array(read_names(row), dtype='S')  # Same as above\n",
    "    \n",
    "# Assume some feature type and genome data for the example, adjust as necessary\n",
    "feature_types_data = np.array(['gene_expression'] * len(features_list), dtype='S')\n",
    "genome_data = np.array(['GRCh38'] * len(features_list), dtype='S')"
   ]
  },
  {
   "cell_type": "code",
   "execution_count": 14,
   "id": "8e6df529",
   "metadata": {},
   "outputs": [
    {
     "data": {
      "text/plain": [
       "153373"
      ]
     },
     "execution_count": 14,
     "metadata": {},
     "output_type": "execute_result"
    }
   ],
   "source": [
    "len(features_list)"
   ]
  },
  {
   "cell_type": "code",
   "execution_count": 12,
   "id": "cd4e5eab",
   "metadata": {},
   "outputs": [
    {
     "ename": "NameError",
     "evalue": "name 'f' is not defined",
     "output_type": "error",
     "traceback": [
      "\u001b[0;31m---------------------------------------------------------------------------\u001b[0m",
      "\u001b[0;31mNameError\u001b[0m                                 Traceback (most recent call last)",
      "Cell \u001b[0;32mIn[12], line 1\u001b[0m\n\u001b[0;32m----> 1\u001b[0m grp_matrix \u001b[38;5;241m=\u001b[39m \u001b[43mf\u001b[49m\u001b[38;5;241m.\u001b[39mcreate_group(\u001b[38;5;124m'\u001b[39m\u001b[38;5;124mmatrix\u001b[39m\u001b[38;5;124m'\u001b[39m)\n\u001b[1;32m      3\u001b[0m         \u001b[38;5;66;03m# Write the barcodes (column names in this context)\u001b[39;00m\n\u001b[1;32m      4\u001b[0m grp_matrix\u001b[38;5;241m.\u001b[39mcreate_dataset(\u001b[38;5;124m'\u001b[39m\u001b[38;5;124mbarcodes\u001b[39m\u001b[38;5;124m'\u001b[39m, data\u001b[38;5;241m=\u001b[39mbarcodes_list)\n",
      "\u001b[0;31mNameError\u001b[0m: name 'f' is not defined"
     ]
    }
   ],
   "source": [
    "grp_matrix = f.create_group('matrix')\n",
    "        \n",
    "        # Write the barcodes (column names in this context)\n",
    "grp_matrix.create_dataset('barcodes', data=barcodes_list)\n",
    "        \n",
    "        # Write the count matrix CSR components\n",
    "grp_matrix.create_dataset('data', data=csr_matrix_data.data)\n",
    "grp_matrix.create_dataset('indices', data=csr_matrix_data.indices)\n",
    "grp_matrix.create_dataset('indptr', data=csr_matrix_data.indptr)\n",
    "        "
   ]
  }
 ],
 "metadata": {
  "kernelspec": {
   "display_name": "Norway",
   "language": "python",
   "name": "python3"
  },
  "language_info": {
   "codemirror_mode": {
    "name": "ipython",
    "version": 3
   },
   "file_extension": ".py",
   "mimetype": "text/x-python",
   "name": "python",
   "nbconvert_exporter": "python",
   "pygments_lexer": "ipython3",
   "version": "3.10.12"
  }
 },
 "nbformat": 4,
 "nbformat_minor": 5
}
