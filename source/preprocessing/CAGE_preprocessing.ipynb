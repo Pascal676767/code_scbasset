{
 "cells": [
  {
   "cell_type": "code",
   "execution_count": 1,
   "id": "01dd4a5e",
   "metadata": {},
   "outputs": [
    {
     "name": "stderr",
     "output_type": "stream",
     "text": [
      "/tmp/ipykernel_75764/1059863759.py:2: DeprecationWarning: \n",
      "Pyarrow will become a required dependency of pandas in the next major release of pandas (pandas 3.0),\n",
      "(to allow more performant data types, such as the Arrow string type, and better interoperability with other libraries)\n",
      "but was not found to be installed on your system.\n",
      "If this would cause problems for you,\n",
      "please provide us feedback at https://github.com/pandas-dev/pandas/issues/54466\n",
      "        \n",
      "  import pandas as pd\n"
     ]
    }
   ],
   "source": [
    "import csv\n",
    "import pandas as pd\n",
    "from itertools import islice\n",
    "import h5py\n",
    "import numpy as np\n",
    "from scipy import sparse\n",
    "import re\n",
    "import scanpy as sc\n",
    "from preprocessing_function import *"
   ]
  },
  {
   "cell_type": "markdown",
   "id": "d88b9d5b",
   "metadata": {},
   "source": [
    "# Choices"
   ]
  },
  {
   "cell_type": "code",
   "execution_count": 2,
   "id": "a8e99ca0",
   "metadata": {},
   "outputs": [],
   "source": [
    "#########################\n",
    "# selection of the data #\n",
    "#########################\n",
    "\n",
    "type_data = 'enhancer'\n",
    "# type_data = 'promotor'\n",
    "# type_data = 'enhancer_promotor'\n",
    "\n",
    "\n",
    "data_path = f'../../../results_scbasset/{type_data}/'\n",
    "\n",
    "#########\n",
    "# Input #\n",
    "#########\n",
    "\n",
    "csv_file = f'../../../results_scbasset/data/CAGE/{type_data}.csv'\n",
    "\n",
    "##########\n",
    "# Output #\n",
    "##########\n",
    "\n",
    "output_csv = f'{data_path}/data/peaks_{type_data}.bed'\n",
    "output_count_matrix = f'{data_path}data/count_matrix_{type_data}.h5'\n",
    "\n"
   ]
  },
  {
   "cell_type": "markdown",
   "id": "6a3ff5f6",
   "metadata": {},
   "source": [
    "# Import data"
   ]
  },
  {
   "cell_type": "code",
   "execution_count": 3,
   "id": "243cbb07",
   "metadata": {},
   "outputs": [],
   "source": [
    "data = pd.read_csv(csv_file, sep = ',', header = 0)"
   ]
  },
  {
   "cell_type": "markdown",
   "id": "77fea188",
   "metadata": {},
   "source": [
    "## Completing the chromosomal coordinates"
   ]
  },
  {
   "cell_type": "code",
   "execution_count": 5,
   "id": "42011d54",
   "metadata": {},
   "outputs": [],
   "source": [
    "df_adjust_coordinates = adjust_coordinates(data)"
   ]
  },
  {
   "cell_type": "markdown",
   "id": "dfdb1563",
   "metadata": {},
   "source": [
    "# Create bed file (peaks coordinates)"
   ]
  },
  {
   "cell_type": "code",
   "execution_count": 6,
   "id": "1b1bc2c4",
   "metadata": {},
   "outputs": [
    {
     "name": "stdout",
     "output_type": "stream",
     "text": [
      "Successfully created BED file: ../../../results_scbasset/enhancer//data/peaks_enhancer.bed\n"
     ]
    }
   ],
   "source": [
    "df_peak_position = df_adjust_coordinates['adjusted_coordinate']\n",
    "\n",
    "create_bed_file(df_peak_position, output_csv)"
   ]
  },
  {
   "cell_type": "markdown",
   "id": "be480b52",
   "metadata": {},
   "source": [
    "# Create count matrix H5 file"
   ]
  },
  {
   "cell_type": "markdown",
   "id": "a9772dae",
   "metadata": {},
   "source": [
    "## Extract the usefull informations"
   ]
  },
  {
   "cell_type": "code",
   "execution_count": 7,
   "id": "b6e71aa3",
   "metadata": {},
   "outputs": [
    {
     "name": "stdout",
     "output_type": "stream",
     "text": [
      "Number of barcodes (patients):  98\n",
      "Number of peaks:  104819\n"
     ]
    }
   ],
   "source": [
    "barcodes_list, data_matrix_transposed, features_list, feature_types_data, genome_data = extract_info(data, df_peak_position)"
   ]
  },
  {
   "cell_type": "markdown",
   "id": "80213f63",
   "metadata": {},
   "source": [
    "## Create the h5 file"
   ]
  },
  {
   "cell_type": "code",
   "execution_count": 8,
   "id": "260c7cdb",
   "metadata": {},
   "outputs": [
    {
     "name": "stdout",
     "output_type": "stream",
     "text": [
      "Successfully created ../../../results_scbasset/enhancer/data/count_matrix_enhancer.h5 file\n"
     ]
    }
   ],
   "source": [
    "create_count_matrix_h5(barcodes_list, data_matrix_transposed, features_list, feature_types_data, genome_data, output_count_matrix)"
   ]
  },
  {
   "cell_type": "code",
   "execution_count": 12,
   "id": "597c6374",
   "metadata": {},
   "outputs": [
    {
     "name": "stdout",
     "output_type": "stream",
     "text": [
      "Keys available in the HDF5 file: ['matrix']\n",
      "\n",
      "Dimension: (98,)\n",
      "Value of dataset 'barcodes': [b's15t1p2sq1' b's15t2p2sq1' b's15t3p2sq1' b's15t4p2sq1' b's15t5p2sq1'\n",
      " b's15t6p2sq1' b's15t7p2sq1' b's15t8p2sq1' b's1t1p1sq1' b's1t2p1sq1'\n",
      " b's1t3p1sq1' b's1t4p1sq1' b's1t5p2sq1' b's1t6p2sq1' b's1t7p2sq1'\n",
      " b's1t8p2sq1' b's7t1p1sq1' b's7t2p1sq1' b's7t3p1sq1' b's7t4p1sq1'\n",
      " b's7t5p1sq1' b's7t6p1sq1' b's7t7p1sq1' b's7t8p1sq1' b's2t1p3sq2'\n",
      " b's2t2p3sq2' b's2t3p3sq2' b's2t4p3sq2' b's2t5p3sq2' b's2t6p3sq2'\n",
      " b's2t7p3sq2' b's2t8p3sq2' b's3t1p3sq2' b's3t2p3sq2' b's3t3p3sq2'\n",
      " b's3t4p3sq2' b's3t5p4sq2' b's3t6p4sq2' b's3t7p4sq2' b's3t8p4sq2'\n",
      " b's4t1p4sq2' b's4t2p4sq2' b's4t3p4sq2' b's4t4p4sq2' b's4t5p4sq2'\n",
      " b's4t6p4sq2' b's4t7p4sq2' b's4t8p4sq2' b's5t1p5sq3' b's5t2p5sq3'\n",
      " b's5t3p5sq3' b's5t4p5sq3' b's5t5p5sq3' b's5t6p5sq3' b's5t7p5sq3'\n",
      " b's5t8p5sq3' b's6t1p5sq3' b's6t2p5sq3' b's6t3p5sq3' b's6t4p5sq3'\n",
      " b's6t5p6sq3' b's6t6p6sq3' b's6t7p6sq3' b's6t8p6sq3' b's9t1p6sq3'\n",
      " b's9t2p6sq3' b's9t3p6sq3' b's9t4p6sq3' b's9t5p6sq3' b's9t6p6sq3'\n",
      " b's9t7p6sq3' b's9t8p6sq3' b'AU565Repd1' b'AU565Repd2' b'HCC1937drep1'\n",
      " b'HCC1937drep2' b'HCC1954Repd1' b'HCC1954Repd2' b'HTBd26Repd1'\n",
      " b'HTBd26Repd2' b'MCF10Adrep1' b'MCF10Adrep2' b'MCF7drep1' b'MCF7drep2'\n",
      " b'MDAdMBd436Repd1' b'MDAdMBd436Repd2' b'MDAdMBd468dRepd3'\n",
      " b'MDAdMBd468dRepd4' b'MDAMB231crmdrep1' b'MDAMB231crmdrep2'\n",
      " b'Me16CcdHMECdRepd1' b'Me16CcdHMECdRepd2' b'ZRd75d1dRepd3'\n",
      " b'ZRd75d1dRepd4' b'ZRd75d1Repd1' b'ZRd75d1Repd2' b'ZRd75d30Repd1'\n",
      " b'ZRd75d30Repd2']\n",
      "Dimension: (910415,)\n",
      "Value of dataset 'data': [ 40   2 226 ...   3   2   5]\n",
      "Keys of subgroup 'features': ['_all_tag_keys', 'feature_type', 'genome', 'id', 'interval', 'name']\n",
      "Dimension: (910415,)\n",
      "Value of dataset 'indices': [     1      8     21 ... 104773 104788 104794]\n",
      "Dimension: (99,)\n",
      "Value of dataset 'indptr': [     0   2800   9445  16350  23973  31368  37055  44718  50090  57043\n",
      "  67614  75437  82330  88530  97963 106943 113772 121802 130166 137215\n",
      " 143421 149784 155937 162702 169083 171224 174067 180664 185399 191655\n",
      " 196439 202800 205964 212051 215904 220355 227209 232580 236843 241862\n",
      " 245752 249886 252524 255707 258151 261570 264755 268106 273351 279666\n",
      " 296461 313231 342479 357239 377206 384844 392871 401851 447803 471166\n",
      " 476908 482900 488815 501635 507527 513572 519872 543866 552145 559090\n",
      " 564919 570829 579607 590177 602326 618248 634263 646015 656637 668353\n",
      " 679987 693529 705518 718993 731847 741680 754022 772159 789201 812475\n",
      " 836601 844797 855473 862793 870918 880849 885094 899530 910415]\n",
      "Dimension: (2,)\n",
      "Value of dataset 'shape': [    98 104819]\n"
     ]
    }
   ],
   "source": [
    "Visualize_h5_file('../../../results_scbasset/enhancer/data/count_matrix_enhancer.h5', 'matrix')"
   ]
  }
 ],
 "metadata": {
  "kernelspec": {
   "display_name": "Norway",
   "language": "python",
   "name": "python3"
  },
  "language_info": {
   "codemirror_mode": {
    "name": "ipython",
    "version": 3
   },
   "file_extension": ".py",
   "mimetype": "text/x-python",
   "name": "python",
   "nbconvert_exporter": "python",
   "pygments_lexer": "ipython3",
   "version": "3.10.12"
  }
 },
 "nbformat": 4,
 "nbformat_minor": 5
}
