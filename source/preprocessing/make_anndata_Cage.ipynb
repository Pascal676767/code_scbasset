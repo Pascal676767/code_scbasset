{
 "cells": [
  {
   "cell_type": "code",
   "execution_count": 1,
   "metadata": {},
   "outputs": [
    {
     "name": "stderr",
     "output_type": "stream",
     "text": [
      "/tmp/ipykernel_9796/2271081770.py:2: DeprecationWarning: \n",
      "Pyarrow will become a required dependency of pandas in the next major release of pandas (pandas 3.0),\n",
      "(to allow more performant data types, such as the Arrow string type, and better interoperability with other libraries)\n",
      "but was not found to be installed on your system.\n",
      "If this would cause problems for you,\n",
      "please provide us feedback at https://github.com/pandas-dev/pandas/issues/54466\n",
      "        \n",
      "  import pandas as pd\n",
      "2024-04-11 09:23:57.814914: I external/local_tsl/tsl/cuda/cudart_stub.cc:31] Could not find cuda drivers on your machine, GPU will not be used.\n",
      "2024-04-11 09:23:58.323402: E external/local_xla/xla/stream_executor/cuda/cuda_dnn.cc:9261] Unable to register cuDNN factory: Attempting to register factory for plugin cuDNN when one has already been registered\n",
      "2024-04-11 09:23:58.323643: E external/local_xla/xla/stream_executor/cuda/cuda_fft.cc:607] Unable to register cuFFT factory: Attempting to register factory for plugin cuFFT when one has already been registered\n",
      "2024-04-11 09:23:58.427178: E external/local_xla/xla/stream_executor/cuda/cuda_blas.cc:1515] Unable to register cuBLAS factory: Attempting to register factory for plugin cuBLAS when one has already been registered\n",
      "2024-04-11 09:23:58.642407: I external/local_tsl/tsl/cuda/cudart_stub.cc:31] Could not find cuda drivers on your machine, GPU will not be used.\n",
      "2024-04-11 09:23:58.645318: I tensorflow/core/platform/cpu_feature_guard.cc:182] This TensorFlow binary is optimized to use available CPU instructions in performance-critical operations.\n",
      "To enable the following instructions: AVX2 FMA, in other operations, rebuild TensorFlow with the appropriate compiler flags.\n",
      "2024-04-11 09:24:00.106845: W tensorflow/compiler/tf2tensorrt/utils/py_utils.cc:38] TF-TRT Warning: Could not find TensorRT\n"
     ]
    }
   ],
   "source": [
    "import numpy as np\n",
    "import pandas as pd\n",
    "import h5py\n",
    "import scipy\n",
    "import scanpy as sc\n",
    "import anndata\n",
    "from scipy.sparse import find\n",
    "from scbasset.utils import *\n",
    "import seaborn as sns\n",
    "import matplotlib.pyplot as plt\n",
    "\n",
    "import os"
   ]
  },
  {
   "cell_type": "markdown",
   "metadata": {},
   "source": [
    "## Enhancer"
   ]
  },
  {
   "cell_type": "code",
   "execution_count": 5,
   "metadata": {},
   "outputs": [],
   "source": [
    "data_path = '../../../results_scbasset/enhancer_final/data/'\n",
    "type_data = 'enhancer'\n",
    "#filter_info = 'filtered'\n",
    "filter_info = 'not_filtered'\n",
    "filter_info = 'filtered_controle'"
   ]
  },
  {
   "cell_type": "markdown",
   "metadata": {},
   "source": [
    "## Promotor"
   ]
  },
  {
   "cell_type": "code",
   "execution_count": 2,
   "metadata": {},
   "outputs": [],
   "source": [
    "data_path = '../../../results_scbasset/promotor_final/data/'\n",
    "type_data = 'promotor'\n",
    "#filter_info = 'filtered'\n",
    "#filter_info = 'not_filtered'\n",
    "filter_info = 'filtered_controle'"
   ]
  },
  {
   "cell_type": "markdown",
   "metadata": {},
   "source": [
    "## Enhancer_promotor"
   ]
  },
  {
   "cell_type": "code",
   "execution_count": 18,
   "metadata": {},
   "outputs": [],
   "source": [
    "data_path = '../../../results_scbasset/enhancer_promotor_final/data/'\n",
    "type_data = 'enhancer_promotor'\n",
    "#filter_info = 'filtered'\n",
    "filter_info = 'not_filtered'"
   ]
  },
  {
   "cell_type": "markdown",
   "metadata": {},
   "source": [
    "## SCAFE enhancer"
   ]
  },
  {
   "cell_type": "code",
   "execution_count": 2,
   "metadata": {},
   "outputs": [],
   "source": [
    "data_path = '../../../results_scbasset/enhancer_SCAFE/data/'\n",
    "type_data = 'enhancer'\n",
    "#filter_info = 'filtered'\n",
    "filter_info = 'not_filtered'"
   ]
  },
  {
   "cell_type": "code",
   "execution_count": 4,
   "metadata": {},
   "outputs": [],
   "source": [
    "def Visualize_h5_file(file_name, group):\n",
    "    \"\"\"\n",
    "    Visualize the contents of an HDF5 file.\n",
    "\n",
    "    Parameters:\n",
    "    - file_name (str): The name of the HDF5 file.\n",
    "    - group (str): The name of the group within the HDF5 file.\n",
    "\n",
    "    \"\"\"\n",
    "    with h5py.File(file_name, 'r') as f:\n",
    "        # Retrieve the keys of the HDF5 file\n",
    "        keys = list(f.keys())\n",
    "        print(f\"Keys available in the HDF5 file: {keys}\\n\")\n",
    "\n",
    "        # Access the specified group\n",
    "        group_data = f[group]\n",
    "\n",
    "        # Iterate over each member of the group\n",
    "        for member in group_data.keys():\n",
    "            # Check if the member is a group or a dataset\n",
    "            if isinstance(group_data[member], h5py.Group):\n",
    "                # If it's a group, display its keys\n",
    "                print(f\"Keys of subgroup '{member}':\", list(group_data[member].keys()))\n",
    "            else:\n",
    "                # Otherwise, display the dataset's value\n",
    "                dimensions = group_data[member].shape\n",
    "                print(f\"Dimension: {dimensions}\")\n",
    "                print(f\"Value of dataset '{member}':\", group_data[member][:])"
   ]
  },
  {
   "cell_type": "code",
   "execution_count": 6,
   "metadata": {},
   "outputs": [
    {
     "name": "stdout",
     "output_type": "stream",
     "text": [
      "Keys available in the HDF5 file: ['matrix']\n",
      "\n",
      "Dimension: (104042,)\n",
      "Value of dataset 'barcodes': [b'NL102A_AAAGTAGCATTCTTAC-1' b'NL102A_AACCATGGTCAACATC-1'\n",
      " b'NL102A_AACCGCGGTACCAGTT-1' ... b'NL99C_TTTGTCATCAATAAGG-1'\n",
      " b'NL99C_TTTGTCATCTATCCCG-1' b'NL99C_TTTGTCATCTCCAGGG-1']\n",
      "Dimension: (21675128,)\n",
      "Value of dataset 'data': [1 1 1 ... 1 1 1]\n",
      "Keys of subgroup 'features': ['_all_tag_keys', 'feature_type', 'genome', 'id', 'interval', 'name']\n",
      "Dimension: (21675128,)\n",
      "Value of dataset 'indices': [    17    274   1342 ... 123545 129667 137382]\n",
      "Dimension: (104043,)\n",
      "Value of dataset 'indptr': [       0      323      786 ... 21675005 21675100 21675128]\n",
      "Dimension: (2,)\n",
      "Value of dataset 'shape': [153373 104042]\n"
     ]
    }
   ],
   "source": [
    "Visualize_h5_file(count_matrix_file, 'matrix')"
   ]
  },
  {
   "cell_type": "markdown",
   "metadata": {},
   "source": [
    "# Read the count_matrix and peaks"
   ]
  },
  {
   "cell_type": "code",
   "execution_count": 3,
   "metadata": {},
   "outputs": [],
   "source": [
    "count_matrix_file = f'{data_path}count_matrix_{type_data}.h5'\n",
    "bed_file = f'{data_path}peaks_{type_data}.bed'"
   ]
  },
  {
   "cell_type": "code",
   "execution_count": 4,
   "metadata": {
    "scrolled": true
   },
   "outputs": [],
   "source": [
    "peak = pd.read_csv(bed_file, sep='\\t', names=['chr','start','end'])\n",
    "ad = sc.read_10x_h5(count_matrix_file, gex_only=False)"
   ]
  },
  {
   "cell_type": "code",
   "execution_count": 5,
   "metadata": {},
   "outputs": [
    {
     "name": "stdout",
     "output_type": "stream",
     "text": [
      "Number of enhancer: 153373 \n",
      "Number of patient: 104042\n"
     ]
    }
   ],
   "source": [
    "print(f'Number of {type_data}: {ad.shape[1]} \\nNumber of patient: {ad.shape[0]}')"
   ]
  },
  {
   "cell_type": "code",
   "execution_count": 13,
   "metadata": {},
   "outputs": [
    {
     "data": {
      "text/html": [
       "<div>\n",
       "<style scoped>\n",
       "    .dataframe tbody tr th:only-of-type {\n",
       "        vertical-align: middle;\n",
       "    }\n",
       "\n",
       "    .dataframe tbody tr th {\n",
       "        vertical-align: top;\n",
       "    }\n",
       "\n",
       "    .dataframe thead th {\n",
       "        text-align: right;\n",
       "    }\n",
       "</style>\n",
       "<table border=\"1\" class=\"dataframe\">\n",
       "  <thead>\n",
       "    <tr style=\"text-align: right;\">\n",
       "      <th></th>\n",
       "      <th>gene_ids</th>\n",
       "      <th>feature_types</th>\n",
       "      <th>genome</th>\n",
       "      <th>chr</th>\n",
       "      <th>start</th>\n",
       "      <th>end</th>\n",
       "      <th>n_cells</th>\n",
       "    </tr>\n",
       "  </thead>\n",
       "  <tbody>\n",
       "    <tr>\n",
       "      <th>chr1-10551-11358--</th>\n",
       "      <td>chr1-10551-11358--</td>\n",
       "      <td>Peaks</td>\n",
       "      <td>GRCh38</td>\n",
       "      <td>chr1</td>\n",
       "      <td>10550</td>\n",
       "      <td>11358</td>\n",
       "      <td>26</td>\n",
       "    </tr>\n",
       "    <tr>\n",
       "      <th>chr1-14569-15070--</th>\n",
       "      <td>chr1-14569-15070--</td>\n",
       "      <td>Peaks</td>\n",
       "      <td>GRCh38</td>\n",
       "      <td>chr1</td>\n",
       "      <td>14568</td>\n",
       "      <td>15070</td>\n",
       "      <td>740</td>\n",
       "    </tr>\n",
       "    <tr>\n",
       "      <th>chr1-16267-16768--</th>\n",
       "      <td>chr1-16267-16768--</td>\n",
       "      <td>Peaks</td>\n",
       "      <td>GRCh38</td>\n",
       "      <td>chr1</td>\n",
       "      <td>16266</td>\n",
       "      <td>16768</td>\n",
       "      <td>142</td>\n",
       "    </tr>\n",
       "    <tr>\n",
       "      <th>chr1-24805-25306--</th>\n",
       "      <td>chr1-24805-25306--</td>\n",
       "      <td>Peaks</td>\n",
       "      <td>GRCh38</td>\n",
       "      <td>chr1</td>\n",
       "      <td>24804</td>\n",
       "      <td>25306</td>\n",
       "      <td>10</td>\n",
       "    </tr>\n",
       "    <tr>\n",
       "      <th>chr1-34491-35027-+</th>\n",
       "      <td>chr1-34491-35027-+</td>\n",
       "      <td>Peaks</td>\n",
       "      <td>GRCh38</td>\n",
       "      <td>chr1</td>\n",
       "      <td>34490</td>\n",
       "      <td>35027</td>\n",
       "      <td>4</td>\n",
       "    </tr>\n",
       "    <tr>\n",
       "      <th>...</th>\n",
       "      <td>...</td>\n",
       "      <td>...</td>\n",
       "      <td>...</td>\n",
       "      <td>...</td>\n",
       "      <td>...</td>\n",
       "      <td>...</td>\n",
       "      <td>...</td>\n",
       "    </tr>\n",
       "    <tr>\n",
       "      <th>chrY-56851291-56851792-+</th>\n",
       "      <td>chrY-56851291-56851792-+</td>\n",
       "      <td>Peaks</td>\n",
       "      <td>GRCh38</td>\n",
       "      <td>chrY</td>\n",
       "      <td>56851290</td>\n",
       "      <td>56851792</td>\n",
       "      <td>3</td>\n",
       "    </tr>\n",
       "    <tr>\n",
       "      <th>chrY-56863540-56864041--</th>\n",
       "      <td>chrY-56863540-56864041--</td>\n",
       "      <td>Peaks</td>\n",
       "      <td>GRCh38</td>\n",
       "      <td>chrY</td>\n",
       "      <td>56863539</td>\n",
       "      <td>56864041</td>\n",
       "      <td>4</td>\n",
       "    </tr>\n",
       "    <tr>\n",
       "      <th>chrY-56868446-56868947--</th>\n",
       "      <td>chrY-56868446-56868947--</td>\n",
       "      <td>Peaks</td>\n",
       "      <td>GRCh38</td>\n",
       "      <td>chrY</td>\n",
       "      <td>56868445</td>\n",
       "      <td>56868947</td>\n",
       "      <td>2</td>\n",
       "    </tr>\n",
       "    <tr>\n",
       "      <th>chrY-56881448-56881949-+</th>\n",
       "      <td>chrY-56881448-56881949-+</td>\n",
       "      <td>Peaks</td>\n",
       "      <td>GRCh38</td>\n",
       "      <td>chrY</td>\n",
       "      <td>56881447</td>\n",
       "      <td>56881949</td>\n",
       "      <td>12</td>\n",
       "    </tr>\n",
       "    <tr>\n",
       "      <th>chrY-56883530-56884031-+</th>\n",
       "      <td>chrY-56883530-56884031-+</td>\n",
       "      <td>Peaks</td>\n",
       "      <td>GRCh38</td>\n",
       "      <td>chrY</td>\n",
       "      <td>56883529</td>\n",
       "      <td>56884031</td>\n",
       "      <td>1</td>\n",
       "    </tr>\n",
       "  </tbody>\n",
       "</table>\n",
       "<p>139478 rows × 7 columns</p>\n",
       "</div>"
      ],
      "text/plain": [
       "                                          gene_ids feature_types  genome  \\\n",
       "chr1-10551-11358--              chr1-10551-11358--         Peaks  GRCh38   \n",
       "chr1-14569-15070--              chr1-14569-15070--         Peaks  GRCh38   \n",
       "chr1-16267-16768--              chr1-16267-16768--         Peaks  GRCh38   \n",
       "chr1-24805-25306--              chr1-24805-25306--         Peaks  GRCh38   \n",
       "chr1-34491-35027-+              chr1-34491-35027-+         Peaks  GRCh38   \n",
       "...                                            ...           ...     ...   \n",
       "chrY-56851291-56851792-+  chrY-56851291-56851792-+         Peaks  GRCh38   \n",
       "chrY-56863540-56864041--  chrY-56863540-56864041--         Peaks  GRCh38   \n",
       "chrY-56868446-56868947--  chrY-56868446-56868947--         Peaks  GRCh38   \n",
       "chrY-56881448-56881949-+  chrY-56881448-56881949-+         Peaks  GRCh38   \n",
       "chrY-56883530-56884031-+  chrY-56883530-56884031-+         Peaks  GRCh38   \n",
       "\n",
       "                           chr     start       end  n_cells  \n",
       "chr1-10551-11358--        chr1     10550     11358       26  \n",
       "chr1-14569-15070--        chr1     14568     15070      740  \n",
       "chr1-16267-16768--        chr1     16266     16768      142  \n",
       "chr1-24805-25306--        chr1     24804     25306       10  \n",
       "chr1-34491-35027-+        chr1     34490     35027        4  \n",
       "...                        ...       ...       ...      ...  \n",
       "chrY-56851291-56851792-+  chrY  56851290  56851792        3  \n",
       "chrY-56863540-56864041--  chrY  56863539  56864041        4  \n",
       "chrY-56868446-56868947--  chrY  56868445  56868947        2  \n",
       "chrY-56881448-56881949-+  chrY  56881447  56881949       12  \n",
       "chrY-56883530-56884031-+  chrY  56883529  56884031        1  \n",
       "\n",
       "[139478 rows x 7 columns]"
      ]
     },
     "execution_count": 13,
     "metadata": {},
     "output_type": "execute_result"
    }
   ],
   "source": [
    "ad_cage.var"
   ]
  },
  {
   "cell_type": "markdown",
   "metadata": {},
   "source": [
    "# Filtering"
   ]
  },
  {
   "cell_type": "markdown",
   "metadata": {},
   "source": [
    "## Filtering on peak accessibilities in patient "
   ]
  },
  {
   "cell_type": "code",
   "execution_count": 33,
   "metadata": {},
   "outputs": [
    {
     "name": "stderr",
     "output_type": "stream",
     "text": [
      "/tmp/ipykernel_80912/1540882627.py:2: ImplicitModificationWarning: Trying to modify attribute `.var` of view, initializing view as actual.\n",
      "  ad_cage.var['chr'] = peak['chr'].values\n"
     ]
    }
   ],
   "source": [
    "ad_cage = ad[:, ad.var['feature_types']=='Peaks']\n",
    "ad_cage.var['chr'] = peak['chr'].values\n",
    "ad_cage.var['start'] = peak['start'].values\n",
    "ad_cage.var['end'] = peak['end'].values\n",
    "\n",
    "# # basic stats\n",
    "sc.pp.filter_cells(ad_cage, min_genes=0)\n",
    "sc.pp.filter_genes(ad_cage, min_cells=0)\n",
    "\n",
    "# # a peak need to be accessible in 5% cells\n",
    "thres = int(ad.shape[0]*0)\n",
    "ad_cage = ad_cage[:, ad_cage.var['n_cells']>=thres]"
   ]
  },
  {
   "cell_type": "code",
   "execution_count": 35,
   "metadata": {},
   "outputs": [
    {
     "name": "stdout",
     "output_type": "stream",
     "text": [
      "Number of enhancer: 153373 \n",
      "Number of patient: 104042\n"
     ]
    }
   ],
   "source": [
    "print(f'Number of {type_data}: {ad_cage.shape[1]} \\nNumber of patient: {ad_cage.shape[0]}')"
   ]
  },
  {
   "cell_type": "markdown",
   "metadata": {},
   "source": [
    "## Filtering on chromosomes"
   ]
  },
  {
   "cell_type": "code",
   "execution_count": 37,
   "metadata": {},
   "outputs": [],
   "source": [
    "chrs = ['chr'+str(i) for i in range(1,23)] + ['chrX', 'chrY']\n",
    "ad_cage = ad_cage[:, ad_cage.var['chr'].isin(chrs)]"
   ]
  },
  {
   "cell_type": "code",
   "execution_count": 38,
   "metadata": {},
   "outputs": [
    {
     "name": "stdout",
     "output_type": "stream",
     "text": [
      "Number of enhancer: 153372 \n",
      "Number of patient: 104042\n"
     ]
    }
   ],
   "source": [
    "print(f'Number of {type_data}: {ad_cage.shape[1]} \\nNumber of patient: {ad_cage.shape[0]}')"
   ]
  },
  {
   "cell_type": "code",
   "execution_count": 27,
   "metadata": {},
   "outputs": [
    {
     "data": {
      "text/html": [
       "<div>\n",
       "<style scoped>\n",
       "    .dataframe tbody tr th:only-of-type {\n",
       "        vertical-align: middle;\n",
       "    }\n",
       "\n",
       "    .dataframe tbody tr th {\n",
       "        vertical-align: top;\n",
       "    }\n",
       "\n",
       "    .dataframe thead th {\n",
       "        text-align: right;\n",
       "    }\n",
       "</style>\n",
       "<table border=\"1\" class=\"dataframe\">\n",
       "  <thead>\n",
       "    <tr style=\"text-align: right;\">\n",
       "      <th></th>\n",
       "      <th>gene_ids</th>\n",
       "      <th>feature_types</th>\n",
       "      <th>genome</th>\n",
       "      <th>chr</th>\n",
       "      <th>start</th>\n",
       "      <th>end</th>\n",
       "      <th>n_cells</th>\n",
       "    </tr>\n",
       "  </thead>\n",
       "  <tbody>\n",
       "    <tr>\n",
       "      <th>chr1-10551-11358--</th>\n",
       "      <td>chr1-10551-11358--</td>\n",
       "      <td>Peaks</td>\n",
       "      <td>GRCh38</td>\n",
       "      <td>chr1</td>\n",
       "      <td>10550</td>\n",
       "      <td>11358</td>\n",
       "      <td>26</td>\n",
       "    </tr>\n",
       "    <tr>\n",
       "      <th>chr1-14569-15070--</th>\n",
       "      <td>chr1-14569-15070--</td>\n",
       "      <td>Peaks</td>\n",
       "      <td>GRCh38</td>\n",
       "      <td>chr1</td>\n",
       "      <td>14568</td>\n",
       "      <td>15070</td>\n",
       "      <td>740</td>\n",
       "    </tr>\n",
       "    <tr>\n",
       "      <th>chr1-16267-16768--</th>\n",
       "      <td>chr1-16267-16768--</td>\n",
       "      <td>Peaks</td>\n",
       "      <td>GRCh38</td>\n",
       "      <td>chr1</td>\n",
       "      <td>16266</td>\n",
       "      <td>16768</td>\n",
       "      <td>142</td>\n",
       "    </tr>\n",
       "    <tr>\n",
       "      <th>chr1-24805-25306--</th>\n",
       "      <td>chr1-24805-25306--</td>\n",
       "      <td>Peaks</td>\n",
       "      <td>GRCh38</td>\n",
       "      <td>chr1</td>\n",
       "      <td>24804</td>\n",
       "      <td>25306</td>\n",
       "      <td>10</td>\n",
       "    </tr>\n",
       "    <tr>\n",
       "      <th>chr1-34491-35027-+</th>\n",
       "      <td>chr1-34491-35027-+</td>\n",
       "      <td>Peaks</td>\n",
       "      <td>GRCh38</td>\n",
       "      <td>chr1</td>\n",
       "      <td>34490</td>\n",
       "      <td>35027</td>\n",
       "      <td>4</td>\n",
       "    </tr>\n",
       "    <tr>\n",
       "      <th>...</th>\n",
       "      <td>...</td>\n",
       "      <td>...</td>\n",
       "      <td>...</td>\n",
       "      <td>...</td>\n",
       "      <td>...</td>\n",
       "      <td>...</td>\n",
       "      <td>...</td>\n",
       "    </tr>\n",
       "    <tr>\n",
       "      <th>chrY-56851291-56851792-+</th>\n",
       "      <td>chrY-56851291-56851792-+</td>\n",
       "      <td>Peaks</td>\n",
       "      <td>GRCh38</td>\n",
       "      <td>chrY</td>\n",
       "      <td>56851290</td>\n",
       "      <td>56851792</td>\n",
       "      <td>3</td>\n",
       "    </tr>\n",
       "    <tr>\n",
       "      <th>chrY-56863540-56864041--</th>\n",
       "      <td>chrY-56863540-56864041--</td>\n",
       "      <td>Peaks</td>\n",
       "      <td>GRCh38</td>\n",
       "      <td>chrY</td>\n",
       "      <td>56863539</td>\n",
       "      <td>56864041</td>\n",
       "      <td>4</td>\n",
       "    </tr>\n",
       "    <tr>\n",
       "      <th>chrY-56868446-56868947--</th>\n",
       "      <td>chrY-56868446-56868947--</td>\n",
       "      <td>Peaks</td>\n",
       "      <td>GRCh38</td>\n",
       "      <td>chrY</td>\n",
       "      <td>56868445</td>\n",
       "      <td>56868947</td>\n",
       "      <td>2</td>\n",
       "    </tr>\n",
       "    <tr>\n",
       "      <th>chrY-56881448-56881949-+</th>\n",
       "      <td>chrY-56881448-56881949-+</td>\n",
       "      <td>Peaks</td>\n",
       "      <td>GRCh38</td>\n",
       "      <td>chrY</td>\n",
       "      <td>56881447</td>\n",
       "      <td>56881949</td>\n",
       "      <td>12</td>\n",
       "    </tr>\n",
       "    <tr>\n",
       "      <th>chrY-56883530-56884031-+</th>\n",
       "      <td>chrY-56883530-56884031-+</td>\n",
       "      <td>Peaks</td>\n",
       "      <td>GRCh38</td>\n",
       "      <td>chrY</td>\n",
       "      <td>56883529</td>\n",
       "      <td>56884031</td>\n",
       "      <td>1</td>\n",
       "    </tr>\n",
       "  </tbody>\n",
       "</table>\n",
       "<p>153372 rows × 7 columns</p>\n",
       "</div>"
      ],
      "text/plain": [
       "                                          gene_ids feature_types  genome  \\\n",
       "chr1-10551-11358--              chr1-10551-11358--         Peaks  GRCh38   \n",
       "chr1-14569-15070--              chr1-14569-15070--         Peaks  GRCh38   \n",
       "chr1-16267-16768--              chr1-16267-16768--         Peaks  GRCh38   \n",
       "chr1-24805-25306--              chr1-24805-25306--         Peaks  GRCh38   \n",
       "chr1-34491-35027-+              chr1-34491-35027-+         Peaks  GRCh38   \n",
       "...                                            ...           ...     ...   \n",
       "chrY-56851291-56851792-+  chrY-56851291-56851792-+         Peaks  GRCh38   \n",
       "chrY-56863540-56864041--  chrY-56863540-56864041--         Peaks  GRCh38   \n",
       "chrY-56868446-56868947--  chrY-56868446-56868947--         Peaks  GRCh38   \n",
       "chrY-56881448-56881949-+  chrY-56881448-56881949-+         Peaks  GRCh38   \n",
       "chrY-56883530-56884031-+  chrY-56883530-56884031-+         Peaks  GRCh38   \n",
       "\n",
       "                           chr     start       end  n_cells  \n",
       "chr1-10551-11358--        chr1     10550     11358       26  \n",
       "chr1-14569-15070--        chr1     14568     15070      740  \n",
       "chr1-16267-16768--        chr1     16266     16768      142  \n",
       "chr1-24805-25306--        chr1     24804     25306       10  \n",
       "chr1-34491-35027-+        chr1     34490     35027        4  \n",
       "...                        ...       ...       ...      ...  \n",
       "chrY-56851291-56851792-+  chrY  56851290  56851792        3  \n",
       "chrY-56863540-56864041--  chrY  56863539  56864041        4  \n",
       "chrY-56868446-56868947--  chrY  56868445  56868947        2  \n",
       "chrY-56881448-56881949-+  chrY  56881447  56881949       12  \n",
       "chrY-56883530-56884031-+  chrY  56883529  56884031        1  \n",
       "\n",
       "[153372 rows x 7 columns]"
      ]
     },
     "execution_count": 27,
     "metadata": {},
     "output_type": "execute_result"
    }
   ],
   "source": [
    "adata.var"
   ]
  },
  {
   "cell_type": "markdown",
   "metadata": {},
   "source": [
    "### save h5ad"
   ]
  },
  {
   "cell_type": "code",
   "execution_count": 39,
   "metadata": {},
   "outputs": [
    {
     "name": "stderr",
     "output_type": "stream",
     "text": [
      "/home/pascal/Norway/lib/python3.10/site-packages/anndata/_core/anndata.py:1301: ImplicitModificationWarning: Trying to modify attribute `.var` of view, initializing view as actual.\n",
      "  df[key] = c\n",
      "/home/pascal/Norway/lib/python3.10/site-packages/anndata/_core/anndata.py:1301: ImplicitModificationWarning: Trying to modify attribute `.var` of view, initializing view as actual.\n",
      "  df[key] = c\n",
      "/home/pascal/Norway/lib/python3.10/site-packages/anndata/_core/anndata.py:1301: ImplicitModificationWarning: Trying to modify attribute `.var` of view, initializing view as actual.\n",
      "  df[key] = c\n"
     ]
    }
   ],
   "source": [
    "ad_cage.write(f'{data_path}{filter_info}/cage_{type_data}_ad.h5ad')"
   ]
  }
 ],
 "metadata": {
  "kernelspec": {
   "display_name": "Norway",
   "language": "python",
   "name": "python3"
  },
  "language_info": {
   "codemirror_mode": {
    "name": "ipython",
    "version": 3
   },
   "file_extension": ".py",
   "mimetype": "text/x-python",
   "name": "python",
   "nbconvert_exporter": "python",
   "pygments_lexer": "ipython3",
   "version": "3.10.12"
  }
 },
 "nbformat": 4,
 "nbformat_minor": 4
}
