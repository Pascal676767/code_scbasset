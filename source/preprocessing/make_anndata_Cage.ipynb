{
 "cells": [
  {
   "cell_type": "code",
   "execution_count": 1,
   "metadata": {},
   "outputs": [
    {
     "name": "stderr",
     "output_type": "stream",
     "text": [
      "/tmp/ipykernel_102320/3154335432.py:2: DeprecationWarning: \n",
      "Pyarrow will become a required dependency of pandas in the next major release of pandas (pandas 3.0),\n",
      "(to allow more performant data types, such as the Arrow string type, and better interoperability with other libraries)\n",
      "but was not found to be installed on your system.\n",
      "If this would cause problems for you,\n",
      "please provide us feedback at https://github.com/pandas-dev/pandas/issues/54466\n",
      "        \n",
      "  import pandas as pd\n",
      "2024-04-22 13:41:57.077732: I external/local_tsl/tsl/cuda/cudart_stub.cc:31] Could not find cuda drivers on your machine, GPU will not be used.\n",
      "2024-04-22 13:41:57.118491: E external/local_xla/xla/stream_executor/cuda/cuda_dnn.cc:9261] Unable to register cuDNN factory: Attempting to register factory for plugin cuDNN when one has already been registered\n",
      "2024-04-22 13:41:57.118524: E external/local_xla/xla/stream_executor/cuda/cuda_fft.cc:607] Unable to register cuFFT factory: Attempting to register factory for plugin cuFFT when one has already been registered\n",
      "2024-04-22 13:41:57.119904: E external/local_xla/xla/stream_executor/cuda/cuda_blas.cc:1515] Unable to register cuBLAS factory: Attempting to register factory for plugin cuBLAS when one has already been registered\n",
      "2024-04-22 13:41:57.126870: I external/local_tsl/tsl/cuda/cudart_stub.cc:31] Could not find cuda drivers on your machine, GPU will not be used.\n",
      "2024-04-22 13:41:57.127638: I tensorflow/core/platform/cpu_feature_guard.cc:182] This TensorFlow binary is optimized to use available CPU instructions in performance-critical operations.\n",
      "To enable the following instructions: AVX2 FMA, in other operations, rebuild TensorFlow with the appropriate compiler flags.\n",
      "2024-04-22 13:41:58.162811: W tensorflow/compiler/tf2tensorrt/utils/py_utils.cc:38] TF-TRT Warning: Could not find TensorRT\n"
     ]
    }
   ],
   "source": [
    "import numpy as np\n",
    "import pandas as pd\n",
    "import h5py\n",
    "import scipy\n",
    "import scanpy as sc\n",
    "import anndata\n",
    "from scipy.sparse import find\n",
    "from scbasset.utils import *\n",
    "import seaborn as sns\n",
    "import matplotlib.pyplot as plt\n",
    "import os\n",
    "from preprocessing_function import *"
   ]
  },
  {
   "cell_type": "markdown",
   "metadata": {},
   "source": [
    "# Choices"
   ]
  },
  {
   "cell_type": "code",
   "execution_count": 2,
   "metadata": {},
   "outputs": [],
   "source": [
    "#########################\n",
    "# selection of the data #\n",
    "#########################\n",
    "\n",
    "type_data = 'enhancer'\n",
    "#type_data = 'promotor'\n",
    "# type_data = 'enhancer_promotor'\n",
    "# type_data = 'enhancer_SCAFE'\n",
    "\n",
    "\n",
    "\n",
    "\n",
    "###############\n",
    "# Filter Info #\n",
    "###############\n",
    "\n",
    "filter_info = 'filtered'\n",
    "#filter_info = 'not_filtered'\n",
    "#filter_info = 'filtered_controle'\n",
    "\n",
    "#peak need to be accessible in _ % cells\n",
    "filter_rate = 0.05\n",
    "\n",
    "#path of the count matrix and peaks.bed\n",
    "data_path = f'../../../results_scbasset/{type_data}/data/'\n",
    "\n",
    "\n",
    "\n",
    "#########\n",
    "# Input #\n",
    "#########\n",
    "\n",
    "count_matrix_file = f'{data_path}count_matrix_{type_data}.h5'\n",
    "bed_file = f'{data_path}peaks_{type_data}.bed'\n",
    "\n",
    "\n",
    "\n",
    "##########\n",
    "# Output #\n",
    "##########\n",
    "\n",
    "output_anndata = f'{data_path}{filter_info}/cage_{type_data}_ad.h5ad'\n"
   ]
  },
  {
   "cell_type": "markdown",
   "metadata": {},
   "source": [
    "# Filtering (features + chr)"
   ]
  },
  {
   "cell_type": "code",
   "execution_count": 4,
   "metadata": {},
   "outputs": [
    {
     "name": "stdout",
     "output_type": "stream",
     "text": [
      "Befor filtering\n",
      "Number of features: 104819 \n",
      "Number of patient: 98\n",
      "After peak filtering\n",
      "Number of features: 44817 \n",
      "Number of patient: 98\n",
      "After chr filtering\n",
      "Number of features: 44663 \n",
      "Number of patient: 98\n"
     ]
    },
    {
     "name": "stderr",
     "output_type": "stream",
     "text": [
      "/home/pascal/Stage_Norvege2/SSHFS/code_scbasset/source/preprocessing/preprocessing_function.py:197: ImplicitModificationWarning: Trying to modify attribute `.var` of view, initializing view as actual.\n",
      "  ad_cage.var['chr'] = peak['chr'].values\n"
     ]
    }
   ],
   "source": [
    "ad_cage = filtering(count_matrix_file, bed_file, 0.05)"
   ]
  },
  {
   "cell_type": "markdown",
   "metadata": {},
   "source": [
    "### save h5ad"
   ]
  },
  {
   "cell_type": "code",
   "execution_count": null,
   "metadata": {},
   "outputs": [],
   "source": [
    "ad_cage.write(output_anndata)"
   ]
  }
 ],
 "metadata": {
  "kernelspec": {
   "display_name": "Norway",
   "language": "python",
   "name": "python3"
  },
  "language_info": {
   "codemirror_mode": {
    "name": "ipython",
    "version": 3
   },
   "file_extension": ".py",
   "mimetype": "text/x-python",
   "name": "python",
   "nbconvert_exporter": "python",
   "pygments_lexer": "ipython3",
   "version": "3.10.12"
  }
 },
 "nbformat": 4,
 "nbformat_minor": 4
}
