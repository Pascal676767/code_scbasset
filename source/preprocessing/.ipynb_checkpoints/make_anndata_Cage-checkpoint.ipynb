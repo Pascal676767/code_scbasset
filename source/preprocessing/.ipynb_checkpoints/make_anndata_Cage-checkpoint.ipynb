{
 "cells": [
  {
   "cell_type": "code",
   "execution_count": 3,
   "metadata": {},
   "outputs": [],
   "source": [
    "import numpy as np\n",
    "import pandas as pd\n",
    "import h5py\n",
    "import scipy\n",
    "import scanpy as sc\n",
    "import anndata\n",
    "from scipy.sparse import find\n",
    "from scbasset.utils import *\n",
    "import seaborn as sns\n",
    "import matplotlib.pyplot as plt\n",
    "\n",
    "import os"
   ]
  },
  {
   "cell_type": "markdown",
   "metadata": {},
   "source": [
    "## Enhancer"
   ]
  },
  {
   "cell_type": "code",
   "execution_count": 5,
   "metadata": {},
   "outputs": [],
   "source": [
    "data_path = '../../../results_scbasset/enhancer_final/data/'\n",
    "type_data = 'enhancer'\n",
    "#filter_info = 'filtered'\n",
    "filter_info = 'not_filtered'\n",
    "filter_info = 'filtered_controle'"
   ]
  },
  {
   "cell_type": "markdown",
   "metadata": {},
   "source": [
    "## Promotor"
   ]
  },
  {
   "cell_type": "code",
   "execution_count": 2,
   "metadata": {},
   "outputs": [],
   "source": [
    "data_path = '../../../results_scbasset/promotor_final/data/'\n",
    "type_data = 'promotor'\n",
    "#filter_info = 'filtered'\n",
    "#filter_info = 'not_filtered'\n",
    "filter_info = 'filtered_controle'"
   ]
  },
  {
   "cell_type": "markdown",
   "metadata": {},
   "source": [
    "## Enhancer_promotor"
   ]
  },
  {
   "cell_type": "code",
   "execution_count": 58,
   "metadata": {},
   "outputs": [],
   "source": [
    "data_path = '../../../results_scbasset/enhancer_promotor_final/data/'\n",
    "type_data = 'enhancer_promotor'\n",
    "#filter_info = 'filtered'\n",
    "filter_info = 'not_filtered'"
   ]
  },
  {
   "cell_type": "markdown",
   "metadata": {},
   "source": [
    "## SCAFE enhancer"
   ]
  },
  {
   "cell_type": "code",
   "execution_count": 23,
   "metadata": {},
   "outputs": [],
   "source": [
    "data_path = '../../../results_scbasset/enhancer_SCAFE/data/'\n",
    "type_data = 'enhancer'\n",
    "filter_info = 'filtered'\n",
    "#filter_info = 'not_filtered'"
   ]
  },
  {
   "cell_type": "code",
   "execution_count": 7,
   "metadata": {},
   "outputs": [],
   "source": [
    "def Visualize_h5_file(file_name, group):\n",
    "    \"\"\"\n",
    "    Visualize the contents of an HDF5 file.\n",
    "\n",
    "    Parameters:\n",
    "    - file_name (str): The name of the HDF5 file.\n",
    "    - group (str): The name of the group within the HDF5 file.\n",
    "\n",
    "    \"\"\"\n",
    "    with h5py.File(file_name, 'r') as f:\n",
    "        # Retrieve the keys of the HDF5 file\n",
    "        keys = list(f.keys())\n",
    "        print(f\"Keys available in the HDF5 file: {keys}\\n\")\n",
    "\n",
    "        # Access the specified group\n",
    "        group_data = f[group]\n",
    "\n",
    "        # Iterate over each member of the group\n",
    "        for member in group_data.keys():\n",
    "            # Check if the member is a group or a dataset\n",
    "            if isinstance(group_data[member], h5py.Group):\n",
    "                # If it's a group, display its keys\n",
    "                print(f\"Keys of subgroup '{member}':\", list(group_data[member].keys()))\n",
    "            else:\n",
    "                # Otherwise, display the dataset's value\n",
    "                dimensions = group_data[member].shape\n",
    "                print(f\"Dimension: {dimensions}\")\n",
    "                print(f\"Value of dataset '{member}':\", group_data[member][:])"
   ]
  },
  {
   "cell_type": "code",
   "execution_count": 8,
   "metadata": {},
   "outputs": [
    {
     "name": "stdout",
     "output_type": "stream",
     "text": [
      "Keys available in the HDF5 file: ['matrix']\n",
      "\n",
      "Dimension: (98,)\n",
      "Value of dataset 'barcodes': [b's15t1p2sq1' b's15t2p2sq1' b's15t3p2sq1' b's15t4p2sq1' b's15t5p2sq1'\n",
      " b's15t6p2sq1' b's15t7p2sq1' b's15t8p2sq1' b's1t1p1sq1' b's1t2p1sq1'\n",
      " b's1t3p1sq1' b's1t4p1sq1' b's1t5p2sq1' b's1t6p2sq1' b's1t7p2sq1'\n",
      " b's1t8p2sq1' b's7t1p1sq1' b's7t2p1sq1' b's7t3p1sq1' b's7t4p1sq1'\n",
      " b's7t5p1sq1' b's7t6p1sq1' b's7t7p1sq1' b's7t8p1sq1' b's2t1p3sq2'\n",
      " b's2t2p3sq2' b's2t3p3sq2' b's2t4p3sq2' b's2t5p3sq2' b's2t6p3sq2'\n",
      " b's2t7p3sq2' b's2t8p3sq2' b's3t1p3sq2' b's3t2p3sq2' b's3t3p3sq2'\n",
      " b's3t4p3sq2' b's3t5p4sq2' b's3t6p4sq2' b's3t7p4sq2' b's3t8p4sq2'\n",
      " b's4t1p4sq2' b's4t2p4sq2' b's4t3p4sq2' b's4t4p4sq2' b's4t5p4sq2'\n",
      " b's4t6p4sq2' b's4t7p4sq2' b's4t8p4sq2' b's5t1p5sq3' b's5t2p5sq3'\n",
      " b's5t3p5sq3' b's5t4p5sq3' b's5t5p5sq3' b's5t6p5sq3' b's5t7p5sq3'\n",
      " b's5t8p5sq3' b's6t1p5sq3' b's6t2p5sq3' b's6t3p5sq3' b's6t4p5sq3'\n",
      " b's6t5p6sq3' b's6t6p6sq3' b's6t7p6sq3' b's6t8p6sq3' b's9t1p6sq3'\n",
      " b's9t2p6sq3' b's9t3p6sq3' b's9t4p6sq3' b's9t5p6sq3' b's9t6p6sq3'\n",
      " b's9t7p6sq3' b's9t8p6sq3' b'AU565Repd1' b'AU565Repd2' b'HCC1937drep1'\n",
      " b'HCC1937drep2' b'HCC1954Repd1' b'HCC1954Repd2' b'HTBd26Repd1'\n",
      " b'HTBd26Repd2' b'MCF10Adrep1' b'MCF10Adrep2' b'MCF7drep1' b'MCF7drep2'\n",
      " b'MDAdMBd436Repd1' b'MDAdMBd436Repd2' b'MDAdMBd468dRepd3'\n",
      " b'MDAdMBd468dRepd4' b'MDAMB231crmdrep1' b'MDAMB231crmdrep2'\n",
      " b'Me16CcdHMECdRepd1' b'Me16CcdHMECdRepd2' b'ZRd75d1dRepd3'\n",
      " b'ZRd75d1dRepd4' b'ZRd75d1Repd1' b'ZRd75d1Repd2' b'ZRd75d30Repd1'\n",
      " b'ZRd75d30Repd2']\n",
      "Dimension: (910415,)\n",
      "Value of dataset 'data': [ 40   2 226 ...   3   2   5]\n",
      "Keys of subgroup 'features': ['_all_tag_keys', 'feature_type', 'genome', 'id', 'interval', 'name']\n",
      "Dimension: (910415,)\n",
      "Value of dataset 'indices': [     1      8     21 ... 104773 104788 104794]\n",
      "Dimension: (99,)\n",
      "Value of dataset 'indptr': [     0   2800   9445  16350  23973  31368  37055  44718  50090  57043\n",
      "  67614  75437  82330  88530  97963 106943 113772 121802 130166 137215\n",
      " 143421 149784 155937 162702 169083 171224 174067 180664 185399 191655\n",
      " 196439 202800 205964 212051 215904 220355 227209 232580 236843 241862\n",
      " 245752 249886 252524 255707 258151 261570 264755 268106 273351 279666\n",
      " 296461 313231 342479 357239 377206 384844 392871 401851 447803 471166\n",
      " 476908 482900 488815 501635 507527 513572 519872 543866 552145 559090\n",
      " 564919 570829 579607 590177 602326 618248 634263 646015 656637 668353\n",
      " 679987 693529 705518 718993 731847 741680 754022 772159 789201 812475\n",
      " 836601 844797 855473 862793 870918 880849 885094 899530 910415]\n",
      "Dimension: (2,)\n",
      "Value of dataset 'shape': [104819     98]\n"
     ]
    }
   ],
   "source": [
    "Visualize_h5_file(count_matrix_file, 'matrix')"
   ]
  },
  {
   "cell_type": "markdown",
   "metadata": {},
   "source": [
    "# Read the count_matrix and peaks"
   ]
  },
  {
   "cell_type": "code",
   "execution_count": 6,
   "metadata": {},
   "outputs": [],
   "source": [
    "count_matrix_file = f'{data_path}count_matrix_{type_data}.h5'\n",
    "bed_file = f'{data_path}peaks_{type_data}.bed'"
   ]
  },
  {
   "cell_type": "code",
   "execution_count": 9,
   "metadata": {
    "scrolled": true
   },
   "outputs": [],
   "source": [
    "peak = pd.read_csv(bed_file, sep='\\t', names=['chr','start','end'])\n",
    "ad = sc.read_10x_h5(count_matrix_file, gex_only=False)"
   ]
  },
  {
   "cell_type": "code",
   "execution_count": 14,
   "metadata": {},
   "outputs": [
    {
     "name": "stdout",
     "output_type": "stream",
     "text": [
      "Number of enhancer: 104819 \n",
      "Number of patient: 98\n"
     ]
    }
   ],
   "source": [
    "print(f'Number of {type_data}: {ad.shape[1]} \\nNumber of patient: {ad.shape[0]}')"
   ]
  },
  {
   "cell_type": "markdown",
   "metadata": {},
   "source": [
    "# Filtering"
   ]
  },
  {
   "cell_type": "markdown",
   "metadata": {},
   "source": [
    "## Filtering on peak accessibilities in patient "
   ]
  },
  {
   "cell_type": "code",
   "execution_count": 12,
   "metadata": {},
   "outputs": [
    {
     "name": "stderr",
     "output_type": "stream",
     "text": [
      "/tmp/ipykernel_6231/2103204391.py:2: ImplicitModificationWarning: Trying to modify attribute `.var` of view, initializing view as actual.\n",
      "  ad_cage.var['chr'] = peak['chr'].values\n"
     ]
    }
   ],
   "source": [
    "ad_cage = ad[:, ad.var['feature_types']=='Peaks']\n",
    "ad_cage.var['chr'] = peak['chr'].values\n",
    "ad_cage.var['start'] = peak['start'].values\n",
    "ad_cage.var['end'] = peak['end'].values\n",
    "\n",
    "# basic stats\n",
    "sc.pp.filter_cells(ad_cage, min_genes=0)\n",
    "sc.pp.filter_genes(ad_cage, min_cells=0)\n",
    "\n",
    "# a peak need to be accessible in 5% cells\n",
    "thres = int(ad.shape[0]*0.05)\n",
    "ad_cage = ad_cage[:, ad_cage.var['n_cells']>thres]"
   ]
  },
  {
   "cell_type": "code",
   "execution_count": 14,
   "metadata": {},
   "outputs": [
    {
     "name": "stdout",
     "output_type": "stream",
     "text": [
      "Number of enhancer: 44817 \n",
      "Number of patient: 98\n"
     ]
    }
   ],
   "source": [
    "print(f'Number of {type_data}: {ad_cage.shape[1]} \\nNumber of patient: {ad_cage.shape[0]}')"
   ]
  },
  {
   "cell_type": "markdown",
   "metadata": {},
   "source": [
    "## Filtering on chromosomes"
   ]
  },
  {
   "cell_type": "code",
   "execution_count": 15,
   "metadata": {},
   "outputs": [],
   "source": [
    "chrs = ['chr'+str(i) for i in range(1,23)] + ['chrX', 'chrY']\n",
    "ad_cage = ad_cage[:, ad_cage.var['chr'].isin(chrs)]"
   ]
  },
  {
   "cell_type": "code",
   "execution_count": 16,
   "metadata": {},
   "outputs": [
    {
     "name": "stdout",
     "output_type": "stream",
     "text": [
      "Number of enhancer: 44663 \n",
      "Number of patient: 98\n"
     ]
    }
   ],
   "source": [
    "print(f'Number of {type_data}: {ad_cage.shape[1]} \\nNumber of patient: {ad_cage.shape[0]}')"
   ]
  },
  {
   "cell_type": "markdown",
   "metadata": {},
   "source": [
    "### save h5ad"
   ]
  },
  {
   "cell_type": "code",
   "execution_count": 10,
   "metadata": {},
   "outputs": [
    {
     "name": "stderr",
     "output_type": "stream",
     "text": [
      "/home/pascal/Norway/lib/python3.10/site-packages/anndata/_core/anndata.py:1301: ImplicitModificationWarning: Trying to modify attribute `.var` of view, initializing view as actual.\n",
      "  df[key] = c\n",
      "/home/pascal/Norway/lib/python3.10/site-packages/anndata/_core/anndata.py:1301: ImplicitModificationWarning: Trying to modify attribute `.var` of view, initializing view as actual.\n",
      "  df[key] = c\n",
      "/home/pascal/Norway/lib/python3.10/site-packages/anndata/_core/anndata.py:1301: ImplicitModificationWarning: Trying to modify attribute `.var` of view, initializing view as actual.\n",
      "  df[key] = c\n"
     ]
    }
   ],
   "source": [
    "ad_cage.write(f'{data_path}{filter_info}/cage_{type_data}_ad.h5ad')"
   ]
  }
 ],
 "metadata": {
  "kernelspec": {
   "display_name": "Norway",
   "language": "python",
   "name": "norway"
  },
  "language_info": {
   "codemirror_mode": {
    "name": "ipython",
    "version": 3
   },
   "file_extension": ".py",
   "mimetype": "text/x-python",
   "name": "python",
   "nbconvert_exporter": "python",
   "pygments_lexer": "ipython3",
   "version": "3.10.12"
  }
 },
 "nbformat": 4,
 "nbformat_minor": 4
}
