{
 "cells": [
  {
   "cell_type": "code",
   "execution_count": 2,
   "id": "de1736ca",
   "metadata": {},
   "outputs": [
    {
     "name": "stderr",
     "output_type": "stream",
     "text": [
      "/tmp/ipykernel_7407/2244478640.py:2: DeprecationWarning: \n",
      "Pyarrow will become a required dependency of pandas in the next major release of pandas (pandas 3.0),\n",
      "(to allow more performant data types, such as the Arrow string type, and better interoperability with other libraries)\n",
      "but was not found to be installed on your system.\n",
      "If this would cause problems for you,\n",
      "please provide us feedback at https://github.com/pandas-dev/pandas/issues/54466\n",
      "        \n",
      "  import pandas as pd\n"
     ]
    }
   ],
   "source": [
    "import csv\n",
    "import pandas as pd\n",
    "from itertools import islice\n",
    "import h5py\n",
    "import numpy as np\n",
    "from scipy import sparse\n",
    "import re\n",
    "import scanpy as sc"
   ]
  },
  {
   "cell_type": "code",
   "execution_count": 19,
   "id": "14ac8f4a",
   "metadata": {},
   "outputs": [
    {
     "name": "stdout",
     "output_type": "stream",
     "text": [
      "Overwriting ../module/concat_csv_file.py\n"
     ]
    }
   ],
   "source": [
    "%%writefile ../module/concat_csv_file.py\n",
    "def concat_csv_file(file1, file2):\n",
    "    data_file1 = pd.read_csv(file1, sep = ',', header = 0)\n",
    "    data_file2 = pd.read_csv(file2, sep = ',', header = 0)\n",
    "    \n",
    "    if (data_file1.columns == data_file2.columns).all():\n",
    "        data_concat = pd.concat([data_file1, data_file2], ignore_index=True)\n",
    "        return data_concat\n",
    "        "
   ]
  },
  {
   "cell_type": "markdown",
   "id": "6bd29068",
   "metadata": {},
   "source": [
    "#  files"
   ]
  },
  {
   "cell_type": "code",
   "execution_count": 11,
   "id": "e159bd6c",
   "metadata": {},
   "outputs": [],
   "source": [
    "output= '../../../results_scbasset/data/enhancer_promotor.csv'\n",
    "file_enhancer = f'../../../results_scbasset/data/enhancer.csv'\n",
    "file_promotor = f'../../../results_scbasset/data/promotor.csv'\n",
    "\n",
    "concat_file = concat_csv_file(file_enhancer, file_promotor)"
   ]
  },
  {
   "cell_type": "markdown",
   "id": "4c7f4d3b",
   "metadata": {},
   "source": [
    "## Save csv file"
   ]
  },
  {
   "cell_type": "code",
   "execution_count": null,
   "id": "daa50d83",
   "metadata": {},
   "outputs": [],
   "source": [
    "df.to_csv(output, index=False)"
   ]
  }
 ],
 "metadata": {
  "kernelspec": {
   "display_name": "Norway",
   "language": "python",
   "name": "norway"
  },
  "language_info": {
   "codemirror_mode": {
    "name": "ipython",
    "version": 3
   },
   "file_extension": ".py",
   "mimetype": "text/x-python",
   "name": "python",
   "nbconvert_exporter": "python",
   "pygments_lexer": "ipython3",
   "version": "3.10.12"
  }
 },
 "nbformat": 4,
 "nbformat_minor": 5
}
