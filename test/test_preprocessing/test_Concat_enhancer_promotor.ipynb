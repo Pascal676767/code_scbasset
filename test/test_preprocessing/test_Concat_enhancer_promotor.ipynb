{
 "cells": [
  {
   "cell_type": "code",
   "execution_count": 2,
   "id": "565ecc4f",
   "metadata": {},
   "outputs": [],
   "source": [
    "import sys\n",
    "sys.path.append(\"../../source/preprocessing\")\n",
    "\n",
    "from preprocessing_function import concat_csv_file"
   ]
  },
  {
   "cell_type": "code",
   "execution_count": 3,
   "id": "af59643a",
   "metadata": {},
   "outputs": [],
   "source": [
    "import ipytest\n",
    "ipytest.autoconfig()"
   ]
  },
  {
   "cell_type": "code",
   "execution_count": 8,
   "id": "a9ec9a63",
   "metadata": {},
   "outputs": [],
   "source": [
    "def test_concat_csv_file_good():\n",
    "    actual_concat_csv = concat_csv_file('csv_example1_test.csv', 'csv_example2_test.csv')\n",
    "    expected_concat_csv = pd.read_csv('csv_good_output_test.csv', sep = ',', header = 0)\n",
    "    assert actual_concat_csv.equals(expected_concat_csv)"
   ]
  },
  {
   "cell_type": "code",
   "execution_count": 9,
   "id": "b64dace2",
   "metadata": {},
   "outputs": [],
   "source": [
    "def test_concat_csv_file_wrong():\n",
    "    actual_concat_csv = concat_csv_file('csv_example1_test.csv', 'csv_example3_test.csv')\n",
    "    assert actual_concat_csv == None"
   ]
  },
  {
   "cell_type": "code",
   "execution_count": 10,
   "id": "3f906bfd",
   "metadata": {},
   "outputs": [
    {
     "name": "stdout",
     "output_type": "stream",
     "text": [
      "\u001b[1m======================================= test session starts ========================================\u001b[0m\n",
      "platform linux -- Python 3.10.12, pytest-8.1.1, pluggy-1.4.0 -- /home/pascal/Norway/bin/python\n",
      "cachedir: .pytest_cache\n",
      "rootdir: /home/pascal/Stage_Norvege2/SSHFS/code_scbasset/test/test_preprocessing\n",
      "plugins: anyio-4.2.0\n",
      "\u001b[1mcollecting ... \u001b[0mcollected 2 items\n",
      "\n",
      "t_1ea62032f66447f9a6a3269ae7c05d3b.py::test_concat_csv_file_good \u001b[32mPASSED\u001b[0m\u001b[32m                      [ 50%]\u001b[0m\n",
      "t_1ea62032f66447f9a6a3269ae7c05d3b.py::test_concat_csv_file_wrong \u001b[32mPASSED\u001b[0m\u001b[32m                     [100%]\u001b[0m\n",
      "\n",
      "\u001b[32m======================================== \u001b[32m\u001b[1m2 passed\u001b[0m\u001b[32m in 0.12s\u001b[0m\u001b[32m =========================================\u001b[0m\n"
     ]
    },
    {
     "data": {
      "text/plain": [
       "<ExitCode.OK: 0>"
      ]
     },
     "execution_count": 10,
     "metadata": {},
     "output_type": "execute_result"
    }
   ],
   "source": [
    "ipytest.run('-vv')"
   ]
  }
 ],
 "metadata": {
  "kernelspec": {
   "display_name": "Norway",
   "language": "python",
   "name": "python3"
  },
  "language_info": {
   "codemirror_mode": {
    "name": "ipython",
    "version": 3
   },
   "file_extension": ".py",
   "mimetype": "text/x-python",
   "name": "python",
   "nbconvert_exporter": "python",
   "pygments_lexer": "ipython3",
   "version": "3.10.12"
  }
 },
 "nbformat": 4,
 "nbformat_minor": 5
}
