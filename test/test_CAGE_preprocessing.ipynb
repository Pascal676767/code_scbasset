{
 "cells": [
  {
   "cell_type": "code",
   "execution_count": 4,
   "metadata": {},
   "outputs": [],
   "source": [
    "import sys\n",
    "sys.path.append('../source/preprocessing/')\n",
    "\n",
    "\n",
    "import ipytest\n",
    "import os\n",
    "from preprocessing_function import *"
   ]
  },
  {
   "cell_type": "code",
   "execution_count": 5,
   "metadata": {},
   "outputs": [],
   "source": [
    "def test_adjust_coordinates_good():\n",
    "    test_good_position = 'chr1:1-2:+'\n",
    "    actual_position = adjust_single_coordinates(test_good_position)\n",
    "    expected_position = 'chr1:1-2:+'\n",
    "    \n",
    "    assert expected_position == actual_position"
   ]
  },
  {
   "cell_type": "code",
   "execution_count": 6,
   "metadata": {},
   "outputs": [],
   "source": [
    "def test_adjust_coordinates_bad():\n",
    "    test_bad_position = 'chr1:1:-'\n",
    "    actual_position = adjust_single_coordinates(test_bad_position)\n",
    "    expected_position = 'chr1:1-1:-'\n",
    "    \n",
    "    assert expected_position == actual_position"
   ]
  },
  {
   "cell_type": "code",
   "execution_count": 7,
   "metadata": {},
   "outputs": [],
   "source": [
    "def test_extract_info():\n",
    "\n",
    "    data = pd.DataFrame({\n",
    "    'Region': ['chr1:586071-586624', 'chr1:827333-827837', 'chr1:899070-899511'],\n",
    "    's15t1p2sq1': [0, 40, 0],\n",
    "    's15t2p2sq1': [2, 135, 0],\n",
    "    's15t3p2sq1': [0, 186, 0],\n",
    "    })\n",
    "\n",
    "    df_peak_position = data['Region']\n",
    "\n",
    "\n",
    "    barcodes_list, data_matrix_transposed, features_list, feature_types_data, genome_data = extract_info(data, df_peak_position)\n",
    "    \n",
    "    expected_barcodes = ['s15t1p2sq1', 's15t2p2sq1', 's15t3p2sq1'] \n",
    "    expected_data_matrix_transposed = np.array([\n",
    "        [0, 40, 0],\n",
    "        [2, 135, 0],\n",
    "        [0, 186, 0]\n",
    "    ])\n",
    "    expected_features_list = ['chr1:586071-586624', 'chr1:827333-827837', 'chr1:899070-899511']\n",
    "    expected_feature_types_data = np.array(['Peaks'] * 3, dtype='S20')\n",
    "    expected_genome_data = np.array(['NA'] * 3, dtype='S20') \n",
    "\n",
    "    # Vérifier les résultats\n",
    "    assert barcodes_list == expected_barcodes\n",
    "    assert np.array_equal(data_matrix_transposed, expected_data_matrix_transposed)\n",
    "    assert features_list == expected_features_list\n",
    "    assert np.array_equal(feature_types_data, expected_feature_types_data)\n",
    "    assert np.array_equal(genome_data, expected_genome_data)"
   ]
  },
  {
   "cell_type": "code",
   "execution_count": 8,
   "metadata": {},
   "outputs": [],
   "source": [
    "def test_create_count_matrix():\n",
    "    barcodes_list = ['s15t1p2sq1', 's15t2p2sq1', 's15t3p2sq1'] \n",
    "    data_matrix_transposed = np.array([\n",
    "        [0, 40, 0],\n",
    "        [2, 135, 0],\n",
    "        [0, 186, 0]\n",
    "    ])\n",
    "    features_list = ['chr1:586071-586624', 'chr1:827333-827837', 'chr1:899070-899511']\n",
    "    feature_types_data = np.array(['Peaks'] * 3, dtype='S20')\n",
    "    genome_data = np.array(['NA'] * 3, dtype='S20')\n",
    "    output_file = './test_create_count_matrix.h5'\n",
    "\n",
    "    create_count_matrix_h5(barcodes_list, data_matrix_transposed, features_list, feature_types_data, genome_data, output_file) \n",
    "\n",
    "    with h5py.File(output_file, 'r') as f:\n",
    "        # Vérifier la structure du fichier\n",
    "        assert 'matrix' in f\n",
    "        assert 'features' in f['matrix']\n",
    "\n",
    "        # Change bytes in str\n",
    "        hdf5_barcodes = f['matrix/barcodes'][:]\n",
    "        hdf5_barcodes_str = [barcode.decode('utf-8') for barcode in hdf5_barcodes]\n",
    "\n",
    "        hdf5_features = f['matrix/features/_all_tag_keys'][:]\n",
    "        hdf5_features_str = [feature.decode('utf-8') for feature in hdf5_features]\n",
    "\n",
    "        hdf5_genome = f['matrix/features/genome'][:]\n",
    "        hdf5_genome_str = [genome.decode('utf-8') for genome in hdf5_genome]\n",
    "\n",
    "        hdf5_id = f['matrix/features/id'][:]\n",
    "        hdf5_id_str = [id.decode('utf-8') for id in hdf5_id]\n",
    "\n",
    "        hdf5_interval = f['matrix/features/interval'][:]\n",
    "        hdf5_interval_str = [interval.decode('utf-8') for interval in hdf5_interval]\n",
    "\n",
    "        hdf5_name = f['matrix/features/name'][:]\n",
    "        hdf5_name_str = [name.decode('utf-8') for name in hdf5_name]\n",
    "\n",
    "\n",
    "        assert np.array_equal(hdf5_barcodes_str, barcodes_list)\n",
    "        assert np.array_equal(f['matrix/data'][:], sparse.csr_matrix(data_matrix_transposed).data)\n",
    "        assert np.array_equal(f['matrix/shape'][:], np.array([3, 3]))\n",
    "        assert np.array_equal(f['matrix/indices'][:], sparse.csr_matrix(data_matrix_transposed).indices)\n",
    "        assert np.array_equal(f['matrix/indptr'][:], sparse.csr_matrix(data_matrix_transposed).indptr)\n",
    "        assert np.array_equal(hdf5_features_str, features_list)\n",
    "        assert np.array_equal(f['matrix/features/feature_type'][:], feature_types_data)\n",
    "        assert np.array_equal(f['matrix/features/genome'][:], genome_data)\n",
    "        assert np.array_equal(hdf5_id_str, features_list)\n",
    "        assert np.array_equal(hdf5_interval_str, features_list)\n",
    "        assert np.array_equal(hdf5_name_str, features_list)\n",
    "\n",
    "    os.remove(output_file)\n",
    "\n",
    "\n",
    "\n"
   ]
  },
  {
   "cell_type": "code",
   "execution_count": 9,
   "metadata": {},
   "outputs": [
    {
     "name": "stdout",
     "output_type": "stream",
     "text": [
      "\u001b[1m======================================= test session starts ========================================\u001b[0m\n",
      "platform linux -- Python 3.10.12, pytest-8.1.1, pluggy-1.4.0 -- /home/pascal/Norway/bin/python\n",
      "cachedir: .pytest_cache\n",
      "rootdir: /home/pascal/Stage_Norvege2/SSHFS/code_scbasset/test\n",
      "plugins: anyio-4.2.0\n",
      "\u001b[1mcollecting ... \u001b[0mcollected 4 items\n",
      "\n",
      "t_2cb02647d6844f66858b9106920b1c48.py::test_adjust_coordinates_good <- ../../../../../../tmp/ipykernel_122412/3350053664.py \u001b[32mPASSED\u001b[0m\u001b[32m [ 25%]\u001b[0m\n",
      "t_2cb02647d6844f66858b9106920b1c48.py::test_adjust_coordinates_bad <- ../../../../../../tmp/ipykernel_122412/2561417899.py \u001b[32mPASSED\u001b[0m\u001b[32m [ 50%]\u001b[0m\n",
      "t_2cb02647d6844f66858b9106920b1c48.py::test_extract_info <- ../../../../../../tmp/ipykernel_122412/1549927861.py \u001b[32mPASSED\u001b[0m\u001b[32m [ 75%]\u001b[0m\n",
      "t_2cb02647d6844f66858b9106920b1c48.py::test_create_count_matrix <- ../../../../../../tmp/ipykernel_122412/2924130392.py \u001b[32mPASSED\u001b[0m\u001b[32m [100%]\u001b[0m\n",
      "\n",
      "\u001b[32m======================================== \u001b[32m\u001b[1m4 passed\u001b[0m\u001b[32m in 0.10s\u001b[0m\u001b[32m =========================================\u001b[0m\n"
     ]
    },
    {
     "data": {
      "text/plain": [
       "<ExitCode.OK: 0>"
      ]
     },
     "execution_count": 9,
     "metadata": {},
     "output_type": "execute_result"
    }
   ],
   "source": [
    "ipytest.run('-vv')"
   ]
  }
 ],
 "metadata": {
  "kernelspec": {
   "display_name": "Norway",
   "language": "python",
   "name": "python3"
  },
  "language_info": {
   "codemirror_mode": {
    "name": "ipython",
    "version": 3
   },
   "file_extension": ".py",
   "mimetype": "text/x-python",
   "name": "python",
   "nbconvert_exporter": "python",
   "pygments_lexer": "ipython3",
   "version": "3.10.12"
  }
 },
 "nbformat": 4,
 "nbformat_minor": 2
}
